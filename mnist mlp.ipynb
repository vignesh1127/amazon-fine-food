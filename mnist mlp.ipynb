{
 "cells": [
  {
   "cell_type": "markdown",
   "metadata": {},
   "source": [
    "# Assignment:Different MLP architectures on MNIST dataset"
   ]
  },
  {
   "cell_type": "code",
   "execution_count": 1,
   "metadata": {
    "colab": {
     "base_uri": "https://localhost:8080/",
     "height": 34
    },
    "colab_type": "code",
    "id": "UKqVSCTQwhMI",
    "outputId": "1a34c8de-e2cd-420f-82f1-b96074c4bc3d"
   },
   "outputs": [
    {
     "name": "stderr",
     "output_type": "stream",
     "text": [
      "Using TensorFlow backend.\n"
     ]
    }
   ],
   "source": [
    "from keras.utils import np_utils \n",
    "from keras.datasets import mnist \n",
    "import seaborn as sns\n",
    "from keras.initializers import RandomNormal"
   ]
  },
  {
   "cell_type": "code",
   "execution_count": 9,
   "metadata": {
    "colab": {},
    "colab_type": "code",
    "id": "xucgV6zrwnOW"
   },
   "outputs": [],
   "source": [
    "%matplotlib notebook\n",
    "import matplotlib.pyplot as plt\n",
    "import numpy as np\n",
    "import time\n",
    "# https://gist.github.com/greydanus/f6eee59eaf1d90fcb3b534a25362cea4\n",
    "# https://stackoverflow.com/a/14434334\n",
    "# this function is used to update the plots for each epoch and error\n",
    "def plt_dynamic(x, vy, ty, ax, colors=['b']):\n",
    "    ax.plot(x, vy, 'b', label=\"Validation Loss\")\n",
    "    ax.plot(x, ty, 'r', label=\"Train Loss\")\n",
    "    plt.legend()\n",
    "    plt.grid()\n",
    "    fig.canvas.draw()"
   ]
  },
  {
   "cell_type": "code",
   "execution_count": 3,
   "metadata": {
    "colab": {
     "base_uri": "https://localhost:8080/",
     "height": 51
    },
    "colab_type": "code",
    "id": "MqkRQAsxwndB",
    "outputId": "bb2d2388-26be-4bae-f973-95365a703c4f"
   },
   "outputs": [
    {
     "name": "stdout",
     "output_type": "stream",
     "text": [
      "Downloading data from https://s3.amazonaws.com/img-datasets/mnist.npz\n",
      "11493376/11490434 [==============================] - 1s 0us/step\n"
     ]
    }
   ],
   "source": [
    "# the data, shuffled and split between train and test sets \n",
    "(X_train, y_train), (X_test, y_test) = mnist.load_data()"
   ]
  },
  {
   "cell_type": "code",
   "execution_count": 4,
   "metadata": {
    "colab": {
     "base_uri": "https://localhost:8080/",
     "height": 51
    },
    "colab_type": "code",
    "id": "BuFuPjQgwnnW",
    "outputId": "03246439-10ec-400a-c7b6-de9b28757112"
   },
   "outputs": [
    {
     "name": "stdout",
     "output_type": "stream",
     "text": [
      "Number of training examples : 60000 and each image is of shape (28, 28)\n",
      "Number of training examples : 10000 and each image is of shape (28, 28)\n"
     ]
    }
   ],
   "source": [
    "print(\"Number of training examples :\", X_train.shape[0], \"and each image is of shape (%d, %d)\"%(X_train.shape[1], X_train.shape[2]))\n",
    "print(\"Number of training examples :\", X_test.shape[0], \"and each image is of shape (%d, %d)\"%(X_test.shape[1], X_test.shape[2]))"
   ]
  },
  {
   "cell_type": "code",
   "execution_count": 0,
   "metadata": {
    "colab": {},
    "colab_type": "code",
    "id": "dPipS8ygwnx6"
   },
   "outputs": [],
   "source": [
    "# if you observe the input shape its 3 dimensional vector\n",
    "# for each image we have a (28*28) vector\n",
    "# we will convert the (28*28) vector into single dimensional vector of 1 * 784 \n",
    "\n",
    "X_train = X_train.reshape(X_train.shape[0], X_train.shape[1]*X_train.shape[2]) \n",
    "X_test = X_test.reshape(X_test.shape[0], X_test.shape[1]*X_test.shape[2]) "
   ]
  },
  {
   "cell_type": "code",
   "execution_count": 6,
   "metadata": {
    "colab": {
     "base_uri": "https://localhost:8080/",
     "height": 51
    },
    "colab_type": "code",
    "id": "fGk6RZg3xRCx",
    "outputId": "ad9d9f1e-4823-4c1c-8e4c-37e707178d3a"
   },
   "outputs": [
    {
     "name": "stdout",
     "output_type": "stream",
     "text": [
      "Number of training examples : 60000 and each image is of shape (784)\n",
      "Number of training examples : 10000 and each image is of shape (784)\n"
     ]
    }
   ],
   "source": [
    "# after converting the input images from 3d to 2d vectors\n",
    "\n",
    "print(\"Number of training examples :\", X_train.shape[0], \"and each image is of shape (%d)\"%(X_train.shape[1]))\n",
    "print(\"Number of training examples :\", X_test.shape[0], \"and each image is of shape (%d)\"%(X_test.shape[1]))"
   ]
  },
  {
   "cell_type": "code",
   "execution_count": 7,
   "metadata": {
    "colab": {
     "base_uri": "https://localhost:8080/",
     "height": 765
    },
    "colab_type": "code",
    "id": "nmkvWdL5xSKh",
    "outputId": "547a40bf-d55b-4484-b28e-39c78a66addd"
   },
   "outputs": [
    {
     "name": "stdout",
     "output_type": "stream",
     "text": [
      "[  0   0   0   0   0   0   0   0   0   0   0   0   0   0   0   0   0   0\n",
      "   0   0   0   0   0   0   0   0   0   0   0   0   0   0   0   0   0   0\n",
      "   0   0   0   0   0   0   0   0   0   0   0   0   0   0   0   0   0   0\n",
      "   0   0   0   0   0   0   0   0   0   0   0   0   0   0   0   0   0   0\n",
      "   0   0   0   0   0   0   0   0   0   0   0   0   0   0   0   0   0   0\n",
      "   0   0   0   0   0   0   0   0   0   0   0   0   0   0   0   0   0   0\n",
      "   0   0   0   0   0   0   0   0   0   0   0   0   0   0   0   0   0   0\n",
      "   0   0   0   0   0   0   0   0   0   0   0   0   0   0   0   0   0   0\n",
      "   0   0   0   0   0   0   0   0   3  18  18  18 126 136 175  26 166 255\n",
      " 247 127   0   0   0   0   0   0   0   0   0   0   0   0  30  36  94 154\n",
      " 170 253 253 253 253 253 225 172 253 242 195  64   0   0   0   0   0   0\n",
      "   0   0   0   0   0  49 238 253 253 253 253 253 253 253 253 251  93  82\n",
      "  82  56  39   0   0   0   0   0   0   0   0   0   0   0   0  18 219 253\n",
      " 253 253 253 253 198 182 247 241   0   0   0   0   0   0   0   0   0   0\n",
      "   0   0   0   0   0   0   0   0  80 156 107 253 253 205  11   0  43 154\n",
      "   0   0   0   0   0   0   0   0   0   0   0   0   0   0   0   0   0   0\n",
      "   0  14   1 154 253  90   0   0   0   0   0   0   0   0   0   0   0   0\n",
      "   0   0   0   0   0   0   0   0   0   0   0   0   0 139 253 190   2   0\n",
      "   0   0   0   0   0   0   0   0   0   0   0   0   0   0   0   0   0   0\n",
      "   0   0   0   0   0  11 190 253  70   0   0   0   0   0   0   0   0   0\n",
      "   0   0   0   0   0   0   0   0   0   0   0   0   0   0   0   0  35 241\n",
      " 225 160 108   1   0   0   0   0   0   0   0   0   0   0   0   0   0   0\n",
      "   0   0   0   0   0   0   0   0   0  81 240 253 253 119  25   0   0   0\n",
      "   0   0   0   0   0   0   0   0   0   0   0   0   0   0   0   0   0   0\n",
      "   0   0  45 186 253 253 150  27   0   0   0   0   0   0   0   0   0   0\n",
      "   0   0   0   0   0   0   0   0   0   0   0   0   0  16  93 252 253 187\n",
      "   0   0   0   0   0   0   0   0   0   0   0   0   0   0   0   0   0   0\n",
      "   0   0   0   0   0   0   0 249 253 249  64   0   0   0   0   0   0   0\n",
      "   0   0   0   0   0   0   0   0   0   0   0   0   0   0  46 130 183 253\n",
      " 253 207   2   0   0   0   0   0   0   0   0   0   0   0   0   0   0   0\n",
      "   0   0   0   0  39 148 229 253 253 253 250 182   0   0   0   0   0   0\n",
      "   0   0   0   0   0   0   0   0   0   0   0   0  24 114 221 253 253 253\n",
      " 253 201  78   0   0   0   0   0   0   0   0   0   0   0   0   0   0   0\n",
      "   0   0  23  66 213 253 253 253 253 198  81   2   0   0   0   0   0   0\n",
      "   0   0   0   0   0   0   0   0   0   0  18 171 219 253 253 253 253 195\n",
      "  80   9   0   0   0   0   0   0   0   0   0   0   0   0   0   0   0   0\n",
      "  55 172 226 253 253 253 253 244 133  11   0   0   0   0   0   0   0   0\n",
      "   0   0   0   0   0   0   0   0   0   0 136 253 253 253 212 135 132  16\n",
      "   0   0   0   0   0   0   0   0   0   0   0   0   0   0   0   0   0   0\n",
      "   0   0   0   0   0   0   0   0   0   0   0   0   0   0   0   0   0   0\n",
      "   0   0   0   0   0   0   0   0   0   0   0   0   0   0   0   0   0   0\n",
      "   0   0   0   0   0   0   0   0   0   0   0   0   0   0   0   0   0   0\n",
      "   0   0   0   0   0   0   0   0   0   0   0   0   0   0   0   0   0   0\n",
      "   0   0   0   0   0   0   0   0   0   0]\n"
     ]
    }
   ],
   "source": [
    "# An example data point\n",
    "print(X_train[0])"
   ]
  },
  {
   "cell_type": "code",
   "execution_count": 0,
   "metadata": {
    "colab": {},
    "colab_type": "code",
    "id": "g-vnlL9sxSWk"
   },
   "outputs": [],
   "source": [
    "# if we observe the above matrix each cell is having a value between 0-255\n",
    "# before we move to apply machine learning algorithms lets try to normalize the data\n",
    "# X => (X - Xmin)/(Xmax-Xmin) = X/255\n",
    "\n",
    "X_train = X_train/255\n",
    "X_test = X_test/255"
   ]
  },
  {
   "cell_type": "code",
   "execution_count": 9,
   "metadata": {
    "colab": {
     "base_uri": "https://localhost:8080/",
     "height": 2244
    },
    "colab_type": "code",
    "id": "TsIotcEcxSio",
    "outputId": "2ff89e24-9e66-441e-fbd3-7fd856e33c7c"
   },
   "outputs": [
    {
     "name": "stdout",
     "output_type": "stream",
     "text": [
      "[0.         0.         0.         0.         0.         0.\n",
      " 0.         0.         0.         0.         0.         0.\n",
      " 0.         0.         0.         0.         0.         0.\n",
      " 0.         0.         0.         0.         0.         0.\n",
      " 0.         0.         0.         0.         0.         0.\n",
      " 0.         0.         0.         0.         0.         0.\n",
      " 0.         0.         0.         0.         0.         0.\n",
      " 0.         0.         0.         0.         0.         0.\n",
      " 0.         0.         0.         0.         0.         0.\n",
      " 0.         0.         0.         0.         0.         0.\n",
      " 0.         0.         0.         0.         0.         0.\n",
      " 0.         0.         0.         0.         0.         0.\n",
      " 0.         0.         0.         0.         0.         0.\n",
      " 0.         0.         0.         0.         0.         0.\n",
      " 0.         0.         0.         0.         0.         0.\n",
      " 0.         0.         0.         0.         0.         0.\n",
      " 0.         0.         0.         0.         0.         0.\n",
      " 0.         0.         0.         0.         0.         0.\n",
      " 0.         0.         0.         0.         0.         0.\n",
      " 0.         0.         0.         0.         0.         0.\n",
      " 0.         0.         0.         0.         0.         0.\n",
      " 0.         0.         0.         0.         0.         0.\n",
      " 0.         0.         0.         0.         0.         0.\n",
      " 0.         0.         0.         0.         0.         0.\n",
      " 0.         0.         0.         0.         0.         0.\n",
      " 0.         0.         0.01176471 0.07058824 0.07058824 0.07058824\n",
      " 0.49411765 0.53333333 0.68627451 0.10196078 0.65098039 1.\n",
      " 0.96862745 0.49803922 0.         0.         0.         0.\n",
      " 0.         0.         0.         0.         0.         0.\n",
      " 0.         0.         0.11764706 0.14117647 0.36862745 0.60392157\n",
      " 0.66666667 0.99215686 0.99215686 0.99215686 0.99215686 0.99215686\n",
      " 0.88235294 0.6745098  0.99215686 0.94901961 0.76470588 0.25098039\n",
      " 0.         0.         0.         0.         0.         0.\n",
      " 0.         0.         0.         0.         0.         0.19215686\n",
      " 0.93333333 0.99215686 0.99215686 0.99215686 0.99215686 0.99215686\n",
      " 0.99215686 0.99215686 0.99215686 0.98431373 0.36470588 0.32156863\n",
      " 0.32156863 0.21960784 0.15294118 0.         0.         0.\n",
      " 0.         0.         0.         0.         0.         0.\n",
      " 0.         0.         0.         0.07058824 0.85882353 0.99215686\n",
      " 0.99215686 0.99215686 0.99215686 0.99215686 0.77647059 0.71372549\n",
      " 0.96862745 0.94509804 0.         0.         0.         0.\n",
      " 0.         0.         0.         0.         0.         0.\n",
      " 0.         0.         0.         0.         0.         0.\n",
      " 0.         0.         0.31372549 0.61176471 0.41960784 0.99215686\n",
      " 0.99215686 0.80392157 0.04313725 0.         0.16862745 0.60392157\n",
      " 0.         0.         0.         0.         0.         0.\n",
      " 0.         0.         0.         0.         0.         0.\n",
      " 0.         0.         0.         0.         0.         0.\n",
      " 0.         0.05490196 0.00392157 0.60392157 0.99215686 0.35294118\n",
      " 0.         0.         0.         0.         0.         0.\n",
      " 0.         0.         0.         0.         0.         0.\n",
      " 0.         0.         0.         0.         0.         0.\n",
      " 0.         0.         0.         0.         0.         0.\n",
      " 0.         0.54509804 0.99215686 0.74509804 0.00784314 0.\n",
      " 0.         0.         0.         0.         0.         0.\n",
      " 0.         0.         0.         0.         0.         0.\n",
      " 0.         0.         0.         0.         0.         0.\n",
      " 0.         0.         0.         0.         0.         0.04313725\n",
      " 0.74509804 0.99215686 0.2745098  0.         0.         0.\n",
      " 0.         0.         0.         0.         0.         0.\n",
      " 0.         0.         0.         0.         0.         0.\n",
      " 0.         0.         0.         0.         0.         0.\n",
      " 0.         0.         0.         0.         0.1372549  0.94509804\n",
      " 0.88235294 0.62745098 0.42352941 0.00392157 0.         0.\n",
      " 0.         0.         0.         0.         0.         0.\n",
      " 0.         0.         0.         0.         0.         0.\n",
      " 0.         0.         0.         0.         0.         0.\n",
      " 0.         0.         0.         0.31764706 0.94117647 0.99215686\n",
      " 0.99215686 0.46666667 0.09803922 0.         0.         0.\n",
      " 0.         0.         0.         0.         0.         0.\n",
      " 0.         0.         0.         0.         0.         0.\n",
      " 0.         0.         0.         0.         0.         0.\n",
      " 0.         0.         0.17647059 0.72941176 0.99215686 0.99215686\n",
      " 0.58823529 0.10588235 0.         0.         0.         0.\n",
      " 0.         0.         0.         0.         0.         0.\n",
      " 0.         0.         0.         0.         0.         0.\n",
      " 0.         0.         0.         0.         0.         0.\n",
      " 0.         0.0627451  0.36470588 0.98823529 0.99215686 0.73333333\n",
      " 0.         0.         0.         0.         0.         0.\n",
      " 0.         0.         0.         0.         0.         0.\n",
      " 0.         0.         0.         0.         0.         0.\n",
      " 0.         0.         0.         0.         0.         0.\n",
      " 0.         0.97647059 0.99215686 0.97647059 0.25098039 0.\n",
      " 0.         0.         0.         0.         0.         0.\n",
      " 0.         0.         0.         0.         0.         0.\n",
      " 0.         0.         0.         0.         0.         0.\n",
      " 0.         0.         0.18039216 0.50980392 0.71764706 0.99215686\n",
      " 0.99215686 0.81176471 0.00784314 0.         0.         0.\n",
      " 0.         0.         0.         0.         0.         0.\n",
      " 0.         0.         0.         0.         0.         0.\n",
      " 0.         0.         0.         0.         0.15294118 0.58039216\n",
      " 0.89803922 0.99215686 0.99215686 0.99215686 0.98039216 0.71372549\n",
      " 0.         0.         0.         0.         0.         0.\n",
      " 0.         0.         0.         0.         0.         0.\n",
      " 0.         0.         0.         0.         0.         0.\n",
      " 0.09411765 0.44705882 0.86666667 0.99215686 0.99215686 0.99215686\n",
      " 0.99215686 0.78823529 0.30588235 0.         0.         0.\n",
      " 0.         0.         0.         0.         0.         0.\n",
      " 0.         0.         0.         0.         0.         0.\n",
      " 0.         0.         0.09019608 0.25882353 0.83529412 0.99215686\n",
      " 0.99215686 0.99215686 0.99215686 0.77647059 0.31764706 0.00784314\n",
      " 0.         0.         0.         0.         0.         0.\n",
      " 0.         0.         0.         0.         0.         0.\n",
      " 0.         0.         0.         0.         0.07058824 0.67058824\n",
      " 0.85882353 0.99215686 0.99215686 0.99215686 0.99215686 0.76470588\n",
      " 0.31372549 0.03529412 0.         0.         0.         0.\n",
      " 0.         0.         0.         0.         0.         0.\n",
      " 0.         0.         0.         0.         0.         0.\n",
      " 0.21568627 0.6745098  0.88627451 0.99215686 0.99215686 0.99215686\n",
      " 0.99215686 0.95686275 0.52156863 0.04313725 0.         0.\n",
      " 0.         0.         0.         0.         0.         0.\n",
      " 0.         0.         0.         0.         0.         0.\n",
      " 0.         0.         0.         0.         0.53333333 0.99215686\n",
      " 0.99215686 0.99215686 0.83137255 0.52941176 0.51764706 0.0627451\n",
      " 0.         0.         0.         0.         0.         0.\n",
      " 0.         0.         0.         0.         0.         0.\n",
      " 0.         0.         0.         0.         0.         0.\n",
      " 0.         0.         0.         0.         0.         0.\n",
      " 0.         0.         0.         0.         0.         0.\n",
      " 0.         0.         0.         0.         0.         0.\n",
      " 0.         0.         0.         0.         0.         0.\n",
      " 0.         0.         0.         0.         0.         0.\n",
      " 0.         0.         0.         0.         0.         0.\n",
      " 0.         0.         0.         0.         0.         0.\n",
      " 0.         0.         0.         0.         0.         0.\n",
      " 0.         0.         0.         0.         0.         0.\n",
      " 0.         0.         0.         0.         0.         0.\n",
      " 0.         0.         0.         0.         0.         0.\n",
      " 0.         0.         0.         0.         0.         0.\n",
      " 0.         0.         0.         0.         0.         0.\n",
      " 0.         0.         0.         0.        ]\n"
     ]
    }
   ],
   "source": [
    "# example data point after normlizing\n",
    "print(X_train[0])"
   ]
  },
  {
   "cell_type": "code",
   "execution_count": 10,
   "metadata": {
    "colab": {
     "base_uri": "https://localhost:8080/",
     "height": 51
    },
    "colab_type": "code",
    "id": "cWX_SbatxSt6",
    "outputId": "f65bdb3e-210f-4b31-8725-653b890ec78c"
   },
   "outputs": [
    {
     "name": "stdout",
     "output_type": "stream",
     "text": [
      "Class label of first image : 5\n",
      "After converting the output into a vector :  [0. 0. 0. 0. 0. 1. 0. 0. 0. 0.]\n"
     ]
    }
   ],
   "source": [
    "# here we are having a class number for each image\n",
    "print(\"Class label of first image :\", y_train[0])\n",
    "\n",
    "# lets convert this into a 10 dimensional vector\n",
    "# ex: consider an image is 5 convert it into 5 => [0, 0, 0, 0, 0, 1, 0, 0, 0, 0]\n",
    "# this conversion needed for MLPs \n",
    "\n",
    "Y_train = np_utils.to_categorical(y_train, 10) \n",
    "Y_test = np_utils.to_categorical(y_test, 10)\n",
    "\n",
    "print(\"After converting the output into a vector : \",Y_train[0])"
   ]
  },
  {
   "cell_type": "code",
   "execution_count": 5,
   "metadata": {
    "colab": {},
    "colab_type": "code",
    "id": "YzivSR7FxS43"
   },
   "outputs": [],
   "source": [
    "from keras.models import Sequential \n",
    "from keras.layers import Dense, Activation \n"
   ]
  },
  {
   "cell_type": "code",
   "execution_count": 3,
   "metadata": {
    "colab": {},
    "colab_type": "code",
    "id": "YPYpK171zfiG"
   },
   "outputs": [],
   "source": [
    "# some model parameters\n",
    "\n",
    "output_dim = 10\n",
    "input_dim = X_train.shape[1]\n",
    "\n",
    "batch_size = 128 \n",
    "nb_epoch = 20"
   ]
  },
  {
   "cell_type": "markdown",
   "metadata": {},
   "source": [
    "<h2> MLP + Batch-Norm on 2-hidden Layers + Dropout + AdamOptimizer </h2>"
   ]
  },
  {
   "cell_type": "code",
   "execution_count": 13,
   "metadata": {
    "colab": {
     "base_uri": "https://localhost:8080/",
     "height": 496
    },
    "colab_type": "code",
    "id": "Y8LRfuA1xTDm",
    "outputId": "d4c295ef-5058-4f78-d227-146777bc3dca"
   },
   "outputs": [
    {
     "name": "stdout",
     "output_type": "stream",
     "text": [
      "WARNING:tensorflow:From /usr/local/lib/python3.6/dist-packages/tensorflow/python/framework/op_def_library.py:263: colocate_with (from tensorflow.python.framework.ops) is deprecated and will be removed in a future version.\n",
      "Instructions for updating:\n",
      "Colocations handled automatically by placer.\n",
      "WARNING:tensorflow:From /usr/local/lib/python3.6/dist-packages/keras/backend/tensorflow_backend.py:3445: calling dropout (from tensorflow.python.ops.nn_ops) with keep_prob is deprecated and will be removed in a future version.\n",
      "Instructions for updating:\n",
      "Please use `rate` instead of `keep_prob`. Rate should be set to `rate = 1 - keep_prob`.\n",
      "_________________________________________________________________\n",
      "Layer (type)                 Output Shape              Param #   \n",
      "=================================================================\n",
      "dense_1 (Dense)              (None, 450)               353250    \n",
      "_________________________________________________________________\n",
      "batch_normalization_1 (Batch (None, 450)               1800      \n",
      "_________________________________________________________________\n",
      "dropout_1 (Dropout)          (None, 450)               0         \n",
      "_________________________________________________________________\n",
      "dense_2 (Dense)              (None, 108)               48708     \n",
      "_________________________________________________________________\n",
      "batch_normalization_2 (Batch (None, 108)               432       \n",
      "_________________________________________________________________\n",
      "dropout_2 (Dropout)          (None, 108)               0         \n",
      "_________________________________________________________________\n",
      "dense_3 (Dense)              (None, 10)                1090      \n",
      "=================================================================\n",
      "Total params: 405,280\n",
      "Trainable params: 404,164\n",
      "Non-trainable params: 1,116\n",
      "_________________________________________________________________\n"
     ]
    }
   ],
   "source": [
    "# https://stackoverflow.com/questions/34716454/where-do-i-call-the-batchnormalization-function-in-keras\n",
    "\n",
    "from keras.layers import Dropout\n",
    "from keras.layers.normalization import BatchNormalization\n",
    "model_drop = Sequential()\n",
    "\n",
    "model_drop.add(Dense(450, activation='relu', input_shape=(input_dim,), kernel_initializer=RandomNormal(mean=0.0, stddev=0.039, seed=None)))\n",
    "model_drop.add(BatchNormalization())\n",
    "model_drop.add(Dropout(0.5))\n",
    "\n",
    "model_drop.add(Dense(108, activation='relu', kernel_initializer=RandomNormal(mean=0.0, stddev=0.55, seed=None)) )\n",
    "model_drop.add(BatchNormalization())\n",
    "model_drop.add(Dropout(0.5))\n",
    "\n",
    "model_drop.add(Dense(output_dim, activation='softmax'))\n",
    "\n",
    "\n",
    "model_drop.summary()"
   ]
  },
  {
   "cell_type": "code",
   "execution_count": 14,
   "metadata": {
    "colab": {
     "base_uri": "https://localhost:8080/",
     "height": 785
    },
    "colab_type": "code",
    "id": "2ri3e99dyUSv",
    "outputId": "a48eaeef-8231-460f-b1a2-5dae9d4b6111"
   },
   "outputs": [
    {
     "name": "stdout",
     "output_type": "stream",
     "text": [
      "WARNING:tensorflow:From /usr/local/lib/python3.6/dist-packages/tensorflow/python/ops/math_ops.py:3066: to_int32 (from tensorflow.python.ops.math_ops) is deprecated and will be removed in a future version.\n",
      "Instructions for updating:\n",
      "Use tf.cast instead.\n",
      "Train on 60000 samples, validate on 10000 samples\n",
      "Epoch 1/20\n",
      "60000/60000 [==============================] - 9s 153us/step - loss: 0.4977 - acc: 0.8478 - val_loss: 0.1694 - val_acc: 0.9491\n",
      "Epoch 2/20\n",
      "60000/60000 [==============================] - 8s 133us/step - loss: 0.2647 - acc: 0.9215 - val_loss: 0.1280 - val_acc: 0.9596\n",
      "Epoch 3/20\n",
      "60000/60000 [==============================] - 8s 133us/step - loss: 0.2112 - acc: 0.9364 - val_loss: 0.1092 - val_acc: 0.9657\n",
      "Epoch 4/20\n",
      "60000/60000 [==============================] - 8s 133us/step - loss: 0.1842 - acc: 0.9456 - val_loss: 0.0983 - val_acc: 0.9684\n",
      "Epoch 5/20\n",
      "60000/60000 [==============================] - 8s 131us/step - loss: 0.1635 - acc: 0.9507 - val_loss: 0.0898 - val_acc: 0.9733\n",
      "Epoch 6/20\n",
      "60000/60000 [==============================] - 8s 131us/step - loss: 0.1500 - acc: 0.9548 - val_loss: 0.0841 - val_acc: 0.9735\n",
      "Epoch 7/20\n",
      "60000/60000 [==============================] - 8s 132us/step - loss: 0.1371 - acc: 0.9582 - val_loss: 0.0838 - val_acc: 0.9739\n",
      "Epoch 8/20\n",
      "60000/60000 [==============================] - 8s 130us/step - loss: 0.1197 - acc: 0.9635 - val_loss: 0.0752 - val_acc: 0.9773\n",
      "Epoch 9/20\n",
      "60000/60000 [==============================] - 8s 131us/step - loss: 0.1188 - acc: 0.9646 - val_loss: 0.0735 - val_acc: 0.9784\n",
      "Epoch 10/20\n",
      "60000/60000 [==============================] - 8s 139us/step - loss: 0.1141 - acc: 0.9656 - val_loss: 0.0760 - val_acc: 0.9764\n",
      "Epoch 11/20\n",
      "60000/60000 [==============================] - 8s 138us/step - loss: 0.1053 - acc: 0.9683 - val_loss: 0.0706 - val_acc: 0.9790\n",
      "Epoch 12/20\n",
      "60000/60000 [==============================] - 8s 129us/step - loss: 0.0985 - acc: 0.9692 - val_loss: 0.0665 - val_acc: 0.9795\n",
      "Epoch 13/20\n",
      "60000/60000 [==============================] - 8s 129us/step - loss: 0.0979 - acc: 0.9698 - val_loss: 0.0682 - val_acc: 0.9799\n",
      "Epoch 14/20\n",
      "60000/60000 [==============================] - 8s 131us/step - loss: 0.0923 - acc: 0.9710 - val_loss: 0.0694 - val_acc: 0.9781\n",
      "Epoch 15/20\n",
      "60000/60000 [==============================] - 8s 132us/step - loss: 0.0896 - acc: 0.9725 - val_loss: 0.0674 - val_acc: 0.9793\n",
      "Epoch 16/20\n",
      "60000/60000 [==============================] - 8s 131us/step - loss: 0.0844 - acc: 0.9737 - val_loss: 0.0622 - val_acc: 0.9816\n",
      "Epoch 17/20\n",
      "60000/60000 [==============================] - 8s 129us/step - loss: 0.0805 - acc: 0.9748 - val_loss: 0.0657 - val_acc: 0.9805\n",
      "Epoch 18/20\n",
      "60000/60000 [==============================] - 8s 131us/step - loss: 0.0774 - acc: 0.9753 - val_loss: 0.0642 - val_acc: 0.9796\n",
      "Epoch 19/20\n",
      "60000/60000 [==============================] - 8s 130us/step - loss: 0.0778 - acc: 0.9758 - val_loss: 0.0640 - val_acc: 0.9815\n",
      "Epoch 20/20\n",
      "60000/60000 [==============================] - 8s 131us/step - loss: 0.0762 - acc: 0.9763 - val_loss: 0.0635 - val_acc: 0.9820\n"
     ]
    }
   ],
   "source": [
    "model_drop.compile(optimizer='adam', loss='categorical_crossentropy', metrics=['accuracy'])\n",
    "\n",
    "history = model_drop.fit(X_train, Y_train, batch_size=batch_size, epochs=nb_epoch, verbose=1, validation_data=(X_test, Y_test))"
   ]
  },
  {
   "cell_type": "code",
   "execution_count": 15,
   "metadata": {
    "colab": {
     "base_uri": "https://localhost:8080/",
     "height": 313
    },
    "colab_type": "code",
    "id": "nk0j17ZwyUeZ",
    "outputId": "eb2f355c-05c1-48e2-f268-a3621b3e5bb7"
   },
   "outputs": [
    {
     "name": "stdout",
     "output_type": "stream",
     "text": [
      "Test score: 0.06346649114196189\n",
      "Test accuracy: 0.982\n"
     ]
    },
    {
     "data": {
      "image/png": "[encoded data removed]",
      "text/plain": [
       "<Figure size 432x288 with 1 Axes>"
      ]
     },
     "metadata": {
      "tags": []
     },
     "output_type": "display_data"
    }
   ],
   "source": [
    "score = model_drop.evaluate(X_test, Y_test, verbose=0) \n",
    "print('Test score:', score[0]) \n",
    "print('Test accuracy:', score[1])\n",
    "\n",
    "fig,ax = plt.subplots(1,1)\n",
    "ax.set_xlabel('epoch') ; ax.set_ylabel('Categorical Crossentropy Loss')\n",
    "\n",
    "# list of epoch numbers\n",
    "x = list(range(1,nb_epoch+1))\n",
    "\n",
    "# print(history.history.keys())\n",
    "# dict_keys(['val_loss', 'val_acc', 'loss', 'acc'])\n",
    "# history = model_drop.fit(X_train, Y_train, batch_size=batch_size, epochs=nb_epoch, verbose=1, validation_data=(X_test, Y_test))\n",
    "\n",
    "# we will get val_loss and val_acc only when you pass the paramter validation_data\n",
    "# val_loss : validation loss\n",
    "# val_acc : validation accuracy\n",
    "\n",
    "# loss : training loss\n",
    "# acc : train accuracy\n",
    "# for each key in histrory.histrory we will have a list of length equal to number of epochs\n",
    "\n",
    "vy = history.history['val_loss']\n",
    "ty = history.history['loss']\n",
    "plt_dynamic(x, vy, ty, ax)"
   ]
  },
  {
   "cell_type": "markdown",
   "metadata": {},
   "source": [
    "<h2> MLP of 2-hidden Layers  + AdamOptimizer </h2>"
   ]
  },
  {
   "cell_type": "code",
   "execution_count": 16,
   "metadata": {
    "colab": {
     "base_uri": "https://localhost:8080/",
     "height": 238
    },
    "colab_type": "code",
    "id": "cThofL6N8-og",
    "outputId": "5f82fe67-a673-4600-e236-5c599ededef9"
   },
   "outputs": [
    {
     "name": "stdout",
     "output_type": "stream",
     "text": [
      "_________________________________________________________________\n",
      "Layer (type)                 Output Shape              Param #   \n",
      "=================================================================\n",
      "dense_4 (Dense)              (None, 450)               353250    \n",
      "_________________________________________________________________\n",
      "dense_5 (Dense)              (None, 108)               48708     \n",
      "_________________________________________________________________\n",
      "dense_6 (Dense)              (None, 10)                1090      \n",
      "=================================================================\n",
      "Total params: 403,048\n",
      "Trainable params: 403,048\n",
      "Non-trainable params: 0\n",
      "_________________________________________________________________\n"
     ]
    }
   ],
   "source": [
    "from keras.layers import Dropout\n",
    "from keras.layers.normalization import BatchNormalization\n",
    "model_nodrop = Sequential()\n",
    "\n",
    "model_nodrop.add(Dense(450, activation='relu', input_shape=(input_dim,), kernel_initializer=RandomNormal(mean=0.0, stddev=0.039, seed=None)))\n",
    "\n",
    "\n",
    "model_nodrop.add(Dense(108, activation='relu', kernel_initializer=RandomNormal(mean=0.0, stddev=0.55, seed=None)) )\n",
    "\n",
    "model_nodrop.add(Dense(output_dim, activation='softmax'))\n",
    "\n",
    "\n",
    "model_nodrop.summary()"
   ]
  },
  {
   "cell_type": "code",
   "execution_count": 17,
   "metadata": {
    "colab": {
     "base_uri": "https://localhost:8080/",
     "height": 714
    },
    "colab_type": "code",
    "id": "4bwb4efq8_L-",
    "outputId": "d57ef046-a530-443e-9bab-1f200fe254f3"
   },
   "outputs": [
    {
     "name": "stdout",
     "output_type": "stream",
     "text": [
      "Train on 60000 samples, validate on 10000 samples\n",
      "Epoch 1/20\n",
      "60000/60000 [==============================] - 7s 111us/step - loss: 0.2350 - acc: 0.9309 - val_loss: 0.1158 - val_acc: 0.9641\n",
      "Epoch 2/20\n",
      "60000/60000 [==============================] - 6s 105us/step - loss: 0.0932 - acc: 0.9707 - val_loss: 0.0999 - val_acc: 0.9697\n",
      "Epoch 3/20\n",
      "60000/60000 [==============================] - 6s 106us/step - loss: 0.0609 - acc: 0.9810 - val_loss: 0.0953 - val_acc: 0.9705\n",
      "Epoch 4/20\n",
      "60000/60000 [==============================] - 6s 104us/step - loss: 0.0452 - acc: 0.9851 - val_loss: 0.0826 - val_acc: 0.9766\n",
      "Epoch 5/20\n",
      "60000/60000 [==============================] - 6s 103us/step - loss: 0.0337 - acc: 0.9890 - val_loss: 0.0919 - val_acc: 0.9767\n",
      "Epoch 6/20\n",
      "60000/60000 [==============================] - 6s 105us/step - loss: 0.0306 - acc: 0.9901 - val_loss: 0.0940 - val_acc: 0.9736\n",
      "Epoch 7/20\n",
      "60000/60000 [==============================] - 6s 106us/step - loss: 0.0210 - acc: 0.9933 - val_loss: 0.0887 - val_acc: 0.9772\n",
      "Epoch 8/20\n",
      "60000/60000 [==============================] - 6s 106us/step - loss: 0.0221 - acc: 0.9926 - val_loss: 0.0938 - val_acc: 0.9770\n",
      "Epoch 9/20\n",
      "60000/60000 [==============================] - 6s 105us/step - loss: 0.0197 - acc: 0.9935 - val_loss: 0.1139 - val_acc: 0.9735\n",
      "Epoch 10/20\n",
      "60000/60000 [==============================] - 6s 105us/step - loss: 0.0225 - acc: 0.9923 - val_loss: 0.1069 - val_acc: 0.9747\n",
      "Epoch 11/20\n",
      "60000/60000 [==============================] - 6s 105us/step - loss: 0.0219 - acc: 0.9926 - val_loss: 0.0930 - val_acc: 0.9774\n",
      "Epoch 12/20\n",
      "60000/60000 [==============================] - 6s 104us/step - loss: 0.0125 - acc: 0.9961 - val_loss: 0.0843 - val_acc: 0.9793\n",
      "Epoch 13/20\n",
      "60000/60000 [==============================] - 6s 106us/step - loss: 0.0141 - acc: 0.9957 - val_loss: 0.1133 - val_acc: 0.9743\n",
      "Epoch 14/20\n",
      "60000/60000 [==============================] - 6s 105us/step - loss: 0.0163 - acc: 0.9945 - val_loss: 0.1037 - val_acc: 0.9769\n",
      "Epoch 15/20\n",
      "60000/60000 [==============================] - 6s 103us/step - loss: 0.0145 - acc: 0.9951 - val_loss: 0.1051 - val_acc: 0.9775\n",
      "Epoch 16/20\n",
      "60000/60000 [==============================] - 6s 104us/step - loss: 0.0079 - acc: 0.9976 - val_loss: 0.1145 - val_acc: 0.9794\n",
      "Epoch 17/20\n",
      "60000/60000 [==============================] - 6s 105us/step - loss: 0.0059 - acc: 0.9981 - val_loss: 0.1089 - val_acc: 0.9781\n",
      "Epoch 18/20\n",
      "60000/60000 [==============================] - 6s 106us/step - loss: 0.0191 - acc: 0.9941 - val_loss: 0.1051 - val_acc: 0.9794\n",
      "Epoch 19/20\n",
      "60000/60000 [==============================] - 6s 106us/step - loss: 0.0108 - acc: 0.9966 - val_loss: 0.1147 - val_acc: 0.9791\n",
      "Epoch 20/20\n",
      "60000/60000 [==============================] - 7s 111us/step - loss: 0.0115 - acc: 0.9966 - val_loss: 0.1074 - val_acc: 0.9813\n"
     ]
    }
   ],
   "source": [
    "model_nodrop.compile(optimizer='adam', loss='categorical_crossentropy', metrics=['accuracy'])\n",
    "\n",
    "history = model_nodrop.fit(X_train, Y_train, batch_size=batch_size, epochs=nb_epoch, verbose=1, validation_data=(X_test, Y_test))"
   ]
  },
  {
   "cell_type": "code",
   "execution_count": 18,
   "metadata": {
    "colab": {
     "base_uri": "https://localhost:8080/",
     "height": 313
    },
    "colab_type": "code",
    "id": "Kyo3UGcR8_bI",
    "outputId": "7d2d0939-6dd4-4404-ab41-531088c500ef"
   },
   "outputs": [
    {
     "name": "stdout",
     "output_type": "stream",
     "text": [
      "Test score: 0.10742944338343391\n",
      "Test accuracy: 0.9813\n"
     ]
    },
    {
     "data": {
      "image/png": "[encoded data removed]",
      "text/plain": [
       "<Figure size 432x288 with 1 Axes>"
      ]
     },
     "metadata": {
      "tags": []
     },
     "output_type": "display_data"
    }
   ],
   "source": [
    "score = model_nodrop.evaluate(X_test, Y_test, verbose=0) \n",
    "print('Test score:', score[0]) \n",
    "print('Test accuracy:', score[1])\n",
    "\n",
    "fig,ax = plt.subplots(1,1)\n",
    "ax.set_xlabel('epoch') ; ax.set_ylabel('Categorical Crossentropy Loss')\n",
    "\n",
    "# list of epoch numbers\n",
    "x = list(range(1,nb_epoch+1))\n",
    "\n",
    "# print(history.history.keys())\n",
    "# dict_keys(['val_loss', 'val_acc', 'loss', 'acc'])\n",
    "# history = model_drop.fit(X_train, Y_train, batch_size=batch_size, epochs=nb_epoch, verbose=1, validation_data=(X_test, Y_test))\n",
    "\n",
    "# we will get val_loss and val_acc only when you pass the paramter validation_data\n",
    "# val_loss : validation loss\n",
    "# val_acc : validation accuracy\n",
    "\n",
    "# loss : training loss\n",
    "# acc : train accuracy\n",
    "# for each key in histrory.histrory we will have a list of length equal to number of epochs\n",
    "\n",
    "vy = history.history['val_loss']\n",
    "ty = history.history['loss']\n",
    "plt_dynamic(x, vy, ty, ax)"
   ]
  },
  {
   "cell_type": "markdown",
   "metadata": {},
   "source": [
    "<h2> MLP + Batch-Norm on 3-hidden Layers + Dropout + AdamOptimizer </h2>"
   ]
  },
  {
   "cell_type": "code",
   "execution_count": 19,
   "metadata": {
    "colab": {
     "base_uri": "https://localhost:8080/",
     "height": 476
    },
    "colab_type": "code",
    "id": "hR-if672yU8x",
    "outputId": "39f1f224-0ca4-49d6-99f1-475a15fc199f"
   },
   "outputs": [
    {
     "name": "stdout",
     "output_type": "stream",
     "text": [
      "_________________________________________________________________\n",
      "Layer (type)                 Output Shape              Param #   \n",
      "=================================================================\n",
      "dense_7 (Dense)              (None, 420)               329700    \n",
      "_________________________________________________________________\n",
      "batch_normalization_3 (Batch (None, 420)               1680      \n",
      "_________________________________________________________________\n",
      "dropout_3 (Dropout)          (None, 420)               0         \n",
      "_________________________________________________________________\n",
      "dense_8 (Dense)              (None, 150)               63150     \n",
      "_________________________________________________________________\n",
      "batch_normalization_4 (Batch (None, 150)               600       \n",
      "_________________________________________________________________\n",
      "dropout_4 (Dropout)          (None, 150)               0         \n",
      "_________________________________________________________________\n",
      "dense_9 (Dense)              (None, 45)                6795      \n",
      "_________________________________________________________________\n",
      "batch_normalization_5 (Batch (None, 45)                180       \n",
      "_________________________________________________________________\n",
      "dropout_5 (Dropout)          (None, 45)                0         \n",
      "_________________________________________________________________\n",
      "dense_10 (Dense)             (None, 10)                460       \n",
      "=================================================================\n",
      "Total params: 402,565\n",
      "Trainable params: 401,335\n",
      "Non-trainable params: 1,230\n",
      "_________________________________________________________________\n"
     ]
    }
   ],
   "source": [
    "# https://stackoverflow.com/questions/34716454/where-do-i-call-the-batchnormalization-function-in-keras\n",
    "\n",
    "from keras.layers import Dropout\n",
    "from keras.layers.normalization import BatchNormalization\n",
    "model_drop_3 = Sequential()\n",
    "\n",
    "model_drop_3.add(Dense(420, activation='relu', input_shape=(input_dim,), kernel_initializer=RandomNormal(mean=0.0, stddev=0.039, seed=None)))\n",
    "model_drop_3.add(BatchNormalization())\n",
    "model_drop_3.add(Dropout(0.5))\n",
    "\n",
    "model_drop_3.add(Dense(150, activation='relu', kernel_initializer=RandomNormal(mean=0.0, stddev=0.55, seed=None)) )\n",
    "model_drop_3.add(BatchNormalization())\n",
    "model_drop_3.add(Dropout(0.5))\n",
    "\n",
    "model_drop_3.add(Dense(45, activation='relu', kernel_initializer=RandomNormal(mean=0.0, stddev=0.55, seed=None)) )\n",
    "model_drop_3.add(BatchNormalization())\n",
    "model_drop_3.add(Dropout(0.5))\n",
    "\n",
    "model_drop_3.add(Dense(output_dim, activation='softmax'))\n",
    "\n",
    "\n",
    "model_drop_3.summary()"
   ]
  },
  {
   "cell_type": "code",
   "execution_count": 20,
   "metadata": {
    "colab": {
     "base_uri": "https://localhost:8080/",
     "height": 714
    },
    "colab_type": "code",
    "id": "T6e8jJcHyVGR",
    "outputId": "81c464d0-f207-44ea-ca7e-c6d0976f1b3c"
   },
   "outputs": [
    {
     "name": "stdout",
     "output_type": "stream",
     "text": [
      "Train on 60000 samples, validate on 10000 samples\n",
      "Epoch 1/20\n",
      "60000/60000 [==============================] - 10s 160us/step - loss: 0.9746 - acc: 0.6962 - val_loss: 0.2475 - val_acc: 0.9293\n",
      "Epoch 2/20\n",
      "60000/60000 [==============================] - 8s 141us/step - loss: 0.4498 - acc: 0.8710 - val_loss: 0.1842 - val_acc: 0.9434\n",
      "Epoch 3/20\n",
      "60000/60000 [==============================] - 8s 140us/step - loss: 0.3415 - acc: 0.9035 - val_loss: 0.1503 - val_acc: 0.9553\n",
      "Epoch 4/20\n",
      "60000/60000 [==============================] - 8s 141us/step - loss: 0.2841 - acc: 0.9212 - val_loss: 0.1271 - val_acc: 0.9616\n",
      "Epoch 5/20\n",
      "60000/60000 [==============================] - 8s 140us/step - loss: 0.2508 - acc: 0.9315 - val_loss: 0.1198 - val_acc: 0.9655\n",
      "Epoch 6/20\n",
      "60000/60000 [==============================] - 8s 140us/step - loss: 0.2258 - acc: 0.9381 - val_loss: 0.1126 - val_acc: 0.9666\n",
      "Epoch 7/20\n",
      "60000/60000 [==============================] - 8s 141us/step - loss: 0.2104 - acc: 0.9422 - val_loss: 0.1039 - val_acc: 0.9697\n",
      "Epoch 8/20\n",
      "60000/60000 [==============================] - 8s 141us/step - loss: 0.1914 - acc: 0.9475 - val_loss: 0.1034 - val_acc: 0.9714\n",
      "Epoch 9/20\n",
      "60000/60000 [==============================] - 8s 141us/step - loss: 0.1821 - acc: 0.9495 - val_loss: 0.0912 - val_acc: 0.9737\n",
      "Epoch 10/20\n",
      "60000/60000 [==============================] - 8s 141us/step - loss: 0.1700 - acc: 0.9538 - val_loss: 0.0885 - val_acc: 0.9757\n",
      "Epoch 11/20\n",
      "60000/60000 [==============================] - 8s 139us/step - loss: 0.1583 - acc: 0.9565 - val_loss: 0.0826 - val_acc: 0.9767\n",
      "Epoch 12/20\n",
      "60000/60000 [==============================] - 9s 144us/step - loss: 0.1568 - acc: 0.9569 - val_loss: 0.0855 - val_acc: 0.9750\n",
      "Epoch 13/20\n",
      "60000/60000 [==============================] - 9s 145us/step - loss: 0.1446 - acc: 0.9607 - val_loss: 0.0820 - val_acc: 0.9771\n",
      "Epoch 14/20\n",
      "60000/60000 [==============================] - 8s 138us/step - loss: 0.1384 - acc: 0.9620 - val_loss: 0.0837 - val_acc: 0.9765\n",
      "Epoch 15/20\n",
      "60000/60000 [==============================] - 8s 138us/step - loss: 0.1292 - acc: 0.9638 - val_loss: 0.0803 - val_acc: 0.9769\n",
      "Epoch 16/20\n",
      "60000/60000 [==============================] - 8s 140us/step - loss: 0.1281 - acc: 0.9650 - val_loss: 0.0766 - val_acc: 0.9791\n",
      "Epoch 17/20\n",
      "60000/60000 [==============================] - 9s 144us/step - loss: 0.1221 - acc: 0.9660 - val_loss: 0.0785 - val_acc: 0.9802\n",
      "Epoch 18/20\n",
      "60000/60000 [==============================] - 8s 141us/step - loss: 0.1195 - acc: 0.9672 - val_loss: 0.0769 - val_acc: 0.9788\n",
      "Epoch 19/20\n",
      "60000/60000 [==============================] - 8s 139us/step - loss: 0.1128 - acc: 0.9692 - val_loss: 0.0751 - val_acc: 0.9796\n",
      "Epoch 20/20\n",
      "60000/60000 [==============================] - 8s 140us/step - loss: 0.1114 - acc: 0.9689 - val_loss: 0.0731 - val_acc: 0.9804\n"
     ]
    }
   ],
   "source": [
    "model_drop_3.compile(optimizer='adam', loss='categorical_crossentropy', metrics=['accuracy'])\n",
    "\n",
    "history = model_drop_3.fit(X_train, Y_train, batch_size=batch_size, epochs=nb_epoch, verbose=1, validation_data=(X_test, Y_test))"
   ]
  },
  {
   "cell_type": "code",
   "execution_count": 21,
   "metadata": {
    "colab": {
     "base_uri": "https://localhost:8080/",
     "height": 313
    },
    "colab_type": "code",
    "id": "WwIqAYaFyVP4",
    "outputId": "dc6e9133-6576-4d48-f43a-b5117e754569"
   },
   "outputs": [
    {
     "name": "stdout",
     "output_type": "stream",
     "text": [
      "Test score: 0.07306666850231704\n",
      "Test accuracy: 0.9804\n"
     ]
    },
    {
     "data": {
      "image/png": "[encoded data removed]",
      "text/plain": [
       "<Figure size 432x288 with 1 Axes>"
      ]
     },
     "metadata": {
      "tags": []
     },
     "output_type": "display_data"
    }
   ],
   "source": [
    "score = model_drop_3.evaluate(X_test, Y_test, verbose=0) \n",
    "print('Test score:', score[0]) \n",
    "print('Test accuracy:', score[1])\n",
    "\n",
    "fig,ax = plt.subplots(1,1)\n",
    "ax.set_xlabel('epoch') ; ax.set_ylabel('Categorical Crossentropy Loss')\n",
    "\n",
    "# list of epoch numbers\n",
    "x = list(range(1,nb_epoch+1))\n",
    "\n",
    "# print(history.history.keys())\n",
    "# dict_keys(['val_loss', 'val_acc', 'loss', 'acc'])\n",
    "# history = model_drop.fit(X_train, Y_train, batch_size=batch_size, epochs=nb_epoch, verbose=1, validation_data=(X_test, Y_test))\n",
    "\n",
    "# we will get val_loss and val_acc only when you pass the paramter validation_data\n",
    "# val_loss : validation loss\n",
    "# val_acc : validation accuracy\n",
    "\n",
    "# loss : training loss\n",
    "# acc : train accuracy\n",
    "# for each key in histrory.histrory we will have a list of length equal to number of epochs\n",
    "\n",
    "vy = history.history['val_loss']\n",
    "ty = history.history['loss']\n",
    "plt_dynamic(x, vy, ty, ax)"
   ]
  },
  {
   "cell_type": "markdown",
   "metadata": {},
   "source": [
    "<h2> MLP of 3-hidden Layers  + AdamOptimizer </h2>"
   ]
  },
  {
   "cell_type": "code",
   "execution_count": 22,
   "metadata": {
    "colab": {
     "base_uri": "https://localhost:8080/",
     "height": 272
    },
    "colab_type": "code",
    "id": "nRMDZaI29sPp",
    "outputId": "e9fb360a-33af-4405-c58c-a98b119b5423"
   },
   "outputs": [
    {
     "name": "stdout",
     "output_type": "stream",
     "text": [
      "_________________________________________________________________\n",
      "Layer (type)                 Output Shape              Param #   \n",
      "=================================================================\n",
      "dense_11 (Dense)             (None, 420)               329700    \n",
      "_________________________________________________________________\n",
      "dense_12 (Dense)             (None, 150)               63150     \n",
      "_________________________________________________________________\n",
      "dense_13 (Dense)             (None, 45)                6795      \n",
      "_________________________________________________________________\n",
      "dense_14 (Dense)             (None, 10)                460       \n",
      "=================================================================\n",
      "Total params: 400,105\n",
      "Trainable params: 400,105\n",
      "Non-trainable params: 0\n",
      "_________________________________________________________________\n"
     ]
    }
   ],
   "source": [
    "\n",
    "from keras.layers import Dropout\n",
    "from keras.layers.normalization import BatchNormalization\n",
    "model_nodrop_3 = Sequential()\n",
    "\n",
    "model_nodrop_3.add(Dense(420, activation='relu', input_shape=(input_dim,), kernel_initializer=RandomNormal(mean=0.0, stddev=0.039, seed=None)))\n",
    "\n",
    "\n",
    "model_nodrop_3.add(Dense(150, activation='relu', kernel_initializer=RandomNormal(mean=0.0, stddev=0.55, seed=None)) )\n",
    "\n",
    "\n",
    "model_nodrop_3.add(Dense(45, activation='relu', kernel_initializer=RandomNormal(mean=0.0, stddev=0.55, seed=None)) )\n",
    "\n",
    "model_nodrop_3.add(Dense(output_dim, activation='softmax'))\n",
    "\n",
    "\n",
    "model_nodrop_3.summary()"
   ]
  },
  {
   "cell_type": "code",
   "execution_count": 23,
   "metadata": {
    "colab": {
     "base_uri": "https://localhost:8080/",
     "height": 714
    },
    "colab_type": "code",
    "id": "awksxjXw9sd-",
    "outputId": "881cde51-f8d8-427c-f07a-516c5132df6c"
   },
   "outputs": [
    {
     "name": "stdout",
     "output_type": "stream",
     "text": [
      "Train on 60000 samples, validate on 10000 samples\n",
      "Epoch 1/20\n",
      "60000/60000 [==============================] - 7s 121us/step - loss: 0.5601 - acc: 0.8919 - val_loss: 0.1871 - val_acc: 0.9442\n",
      "Epoch 2/20\n",
      "60000/60000 [==============================] - 6s 108us/step - loss: 0.1447 - acc: 0.9577 - val_loss: 0.1656 - val_acc: 0.9536\n",
      "Epoch 3/20\n",
      "60000/60000 [==============================] - 6s 107us/step - loss: 0.0938 - acc: 0.9720 - val_loss: 0.1405 - val_acc: 0.9616\n",
      "Epoch 4/20\n",
      "60000/60000 [==============================] - 6s 108us/step - loss: 0.0683 - acc: 0.9784 - val_loss: 0.1246 - val_acc: 0.9677\n",
      "Epoch 5/20\n",
      "60000/60000 [==============================] - 7s 109us/step - loss: 0.0602 - acc: 0.9813 - val_loss: 0.1289 - val_acc: 0.9667\n",
      "Epoch 6/20\n",
      "60000/60000 [==============================] - 6s 108us/step - loss: 0.0527 - acc: 0.9840 - val_loss: 0.1148 - val_acc: 0.9683\n",
      "Epoch 7/20\n",
      "60000/60000 [==============================] - 6s 108us/step - loss: 0.0436 - acc: 0.9860 - val_loss: 0.1235 - val_acc: 0.9689\n",
      "Epoch 8/20\n",
      "60000/60000 [==============================] - 6s 108us/step - loss: 0.0373 - acc: 0.9879 - val_loss: 0.1219 - val_acc: 0.9716\n",
      "Epoch 9/20\n",
      "60000/60000 [==============================] - 7s 109us/step - loss: 0.0338 - acc: 0.9890 - val_loss: 0.1145 - val_acc: 0.9727\n",
      "Epoch 10/20\n",
      "60000/60000 [==============================] - 6s 108us/step - loss: 0.0318 - acc: 0.9901 - val_loss: 0.1254 - val_acc: 0.9722\n",
      "Epoch 11/20\n",
      "60000/60000 [==============================] - 7s 109us/step - loss: 0.0266 - acc: 0.9910 - val_loss: 0.1459 - val_acc: 0.9683\n",
      "Epoch 12/20\n",
      "60000/60000 [==============================] - 6s 108us/step - loss: 0.0292 - acc: 0.9909 - val_loss: 0.1253 - val_acc: 0.9757\n",
      "Epoch 13/20\n",
      "60000/60000 [==============================] - 7s 110us/step - loss: 0.0283 - acc: 0.9917 - val_loss: 0.1512 - val_acc: 0.9691\n",
      "Epoch 14/20\n",
      "60000/60000 [==============================] - 7s 109us/step - loss: 0.0227 - acc: 0.9927 - val_loss: 0.1246 - val_acc: 0.9724\n",
      "Epoch 15/20\n",
      "60000/60000 [==============================] - 7s 109us/step - loss: 0.0272 - acc: 0.9914 - val_loss: 0.1212 - val_acc: 0.9749\n",
      "Epoch 16/20\n",
      "60000/60000 [==============================] - 7s 109us/step - loss: 0.0192 - acc: 0.9941 - val_loss: 0.1289 - val_acc: 0.9732\n",
      "Epoch 17/20\n",
      "60000/60000 [==============================] - 7s 109us/step - loss: 0.0212 - acc: 0.9938 - val_loss: 0.1381 - val_acc: 0.9734\n",
      "Epoch 18/20\n",
      "60000/60000 [==============================] - 6s 108us/step - loss: 0.0245 - acc: 0.9926 - val_loss: 0.1252 - val_acc: 0.9752\n",
      "Epoch 19/20\n",
      "60000/60000 [==============================] - 6s 107us/step - loss: 0.0166 - acc: 0.9947 - val_loss: 0.1130 - val_acc: 0.9782\n",
      "Epoch 20/20\n",
      "60000/60000 [==============================] - 7s 112us/step - loss: 0.0111 - acc: 0.9966 - val_loss: 0.1289 - val_acc: 0.9777\n"
     ]
    }
   ],
   "source": [
    "model_nodrop_3.compile(optimizer='adam', loss='categorical_crossentropy', metrics=['accuracy'])\n",
    "\n",
    "history = model_nodrop_3.fit(X_train, Y_train, batch_size=batch_size, epochs=nb_epoch, verbose=1, validation_data=(X_test, Y_test))"
   ]
  },
  {
   "cell_type": "code",
   "execution_count": 24,
   "metadata": {
    "colab": {
     "base_uri": "https://localhost:8080/",
     "height": 313
    },
    "colab_type": "code",
    "id": "wmkwoj9g9srm",
    "outputId": "d8ebd097-68ed-46df-d365-9b5fd7fe2d65"
   },
   "outputs": [
    {
     "name": "stdout",
     "output_type": "stream",
     "text": [
      "Test score: 0.12885217315385394\n",
      "Test accuracy: 0.9777\n"
     ]
    },
    {
     "data": {
      "image/png": "[encoded data removed]",
      "text/plain": [
       "<Figure size 432x288 with 1 Axes>"
      ]
     },
     "metadata": {
      "tags": []
     },
     "output_type": "display_data"
    }
   ],
   "source": [
    "score = model_nodrop_3.evaluate(X_test, Y_test, verbose=0) \n",
    "print('Test score:', score[0]) \n",
    "print('Test accuracy:', score[1])\n",
    "\n",
    "fig,ax = plt.subplots(1,1)\n",
    "ax.set_xlabel('epoch') ; ax.set_ylabel('Categorical Crossentropy Loss')\n",
    "\n",
    "# list of epoch numbers\n",
    "x = list(range(1,nb_epoch+1))\n",
    "\n",
    "# print(history.history.keys())\n",
    "# dict_keys(['val_loss', 'val_acc', 'loss', 'acc'])\n",
    "# history = model_drop.fit(X_train, Y_train, batch_size=batch_size, epochs=nb_epoch, verbose=1, validation_data=(X_test, Y_test))\n",
    "\n",
    "# we will get val_loss and val_acc only when you pass the paramter validation_data\n",
    "# val_loss : validation loss\n",
    "# val_acc : validation accuracy\n",
    "\n",
    "# loss : training loss\n",
    "# acc : train accuracy\n",
    "# for each key in histrory.histrory we will have a list of length equal to number of epochs\n",
    "\n",
    "vy = history.history['val_loss']\n",
    "ty = history.history['loss']\n",
    "plt_dynamic(x, vy, ty, ax)"
   ]
  },
  {
   "cell_type": "markdown",
   "metadata": {},
   "source": [
    "<h2> MLP + Batch-Norm on 5-hidden Layers + Dropout + AdamOptimizer </h2>"
   ]
  },
  {
   "cell_type": "code",
   "execution_count": 0,
   "metadata": {
    "colab": {},
    "colab_type": "code",
    "id": "NwRYw47oyVab"
   },
   "outputs": [],
   "source": [
    "# https://stackoverflow.com/questions/34716454/where-do-i-call-the-batchnormalization-function-in-keras\n",
    "\n",
    "from keras.layers import Dropout\n",
    "from keras.layers.normalization import BatchNormalization\n",
    "model_drop_5 = Sequential()\n",
    "\n",
    "model_drop_5.add(Dense(500, activation='relu', input_shape=(input_dim,), kernel_initializer=RandomNormal(mean=0.0, stddev=0.039, seed=None)))\n",
    "model_drop_5.add(BatchNormalization())\n",
    "model_drop_5.add(Dropout(0.5))\n",
    "\n",
    "model_drop_5.add(Dense(400, activation='relu', kernel_initializer=RandomNormal(mean=0.0, stddev=0.55, seed=None)) )\n",
    "model_drop_5.add(BatchNormalization())\n",
    "model_drop_5.add(Dropout(0.5))\n",
    "\n",
    "model_drop_5.add(Dense(300, activation='relu', kernel_initializer=RandomNormal(mean=0.0, stddev=0.55, seed=None)) )\n",
    "model_drop_5.add(BatchNormalization())\n",
    "model_drop_5.add(Dropout(0.5))\n",
    "\n",
    "model_drop_5.add(Dense(150, activation='relu', kernel_initializer=RandomNormal(mean=0.0, stddev=0.55, seed=None)) )\n",
    "model_drop_5.add(BatchNormalization())\n",
    "model_drop_5.add(Dropout(0.5))\n",
    "\n",
    "model_drop_5.add(Dense(50, activation='relu', kernel_initializer=RandomNormal(mean=0.0, stddev=0.55, seed=None)) )\n",
    "model_drop_5.add(BatchNormalization())\n",
    "model_drop_5.add(Dropout(0.5))\n",
    "\n",
    "model_drop_5.add(Dense(output_dim, activation='softmax'))\n",
    "\n",
    "\n"
   ]
  },
  {
   "cell_type": "code",
   "execution_count": 26,
   "metadata": {
    "colab": {
     "base_uri": "https://localhost:8080/",
     "height": 680
    },
    "colab_type": "code",
    "id": "v5rkzBbf4lLz",
    "outputId": "cf736810-c8bd-420f-f8e3-21b14d6ba5ae",
    "scrolled": true
   },
   "outputs": [
    {
     "name": "stdout",
     "output_type": "stream",
     "text": [
      "_________________________________________________________________\n",
      "Layer (type)                 Output Shape              Param #   \n",
      "=================================================================\n",
      "dense_15 (Dense)             (None, 500)               392500    \n",
      "_________________________________________________________________\n",
      "batch_normalization_6 (Batch (None, 500)               2000      \n",
      "_________________________________________________________________\n",
      "dropout_6 (Dropout)          (None, 500)               0         \n",
      "_________________________________________________________________\n",
      "dense_16 (Dense)             (None, 400)               200400    \n",
      "_________________________________________________________________\n",
      "batch_normalization_7 (Batch (None, 400)               1600      \n",
      "_________________________________________________________________\n",
      "dropout_7 (Dropout)          (None, 400)               0         \n",
      "_________________________________________________________________\n",
      "dense_17 (Dense)             (None, 300)               120300    \n",
      "_________________________________________________________________\n",
      "batch_normalization_8 (Batch (None, 300)               1200      \n",
      "_________________________________________________________________\n",
      "dropout_8 (Dropout)          (None, 300)               0         \n",
      "_________________________________________________________________\n",
      "dense_18 (Dense)             (None, 150)               45150     \n",
      "_________________________________________________________________\n",
      "batch_normalization_9 (Batch (None, 150)               600       \n",
      "_________________________________________________________________\n",
      "dropout_9 (Dropout)          (None, 150)               0         \n",
      "_________________________________________________________________\n",
      "dense_19 (Dense)             (None, 50)                7550      \n",
      "_________________________________________________________________\n",
      "batch_normalization_10 (Batc (None, 50)                200       \n",
      "_________________________________________________________________\n",
      "dropout_10 (Dropout)         (None, 50)                0         \n",
      "_________________________________________________________________\n",
      "dense_20 (Dense)             (None, 10)                510       \n",
      "=================================================================\n",
      "Total params: 772,010\n",
      "Trainable params: 769,210\n",
      "Non-trainable params: 2,800\n",
      "_________________________________________________________________\n"
     ]
    }
   ],
   "source": [
    "model_drop_5.summary()"
   ]
  },
  {
   "cell_type": "code",
   "execution_count": 27,
   "metadata": {
    "colab": {
     "base_uri": "https://localhost:8080/",
     "height": 714
    },
    "colab_type": "code",
    "id": "LqK6Bk7R4lbv",
    "outputId": "cc0d9346-28c3-4829-f12b-8be949d4b54f"
   },
   "outputs": [
    {
     "name": "stdout",
     "output_type": "stream",
     "text": [
      "Train on 60000 samples, validate on 10000 samples\n",
      "Epoch 1/20\n",
      "60000/60000 [==============================] - 18s 292us/step - loss: 1.8485 - acc: 0.3933 - val_loss: 0.5944 - val_acc: 0.8594\n",
      "Epoch 2/20\n",
      "60000/60000 [==============================] - 15s 257us/step - loss: 0.8077 - acc: 0.7382 - val_loss: 0.2827 - val_acc: 0.9199\n",
      "Epoch 3/20\n",
      "60000/60000 [==============================] - 15s 256us/step - loss: 0.5267 - acc: 0.8455 - val_loss: 0.2153 - val_acc: 0.9390\n",
      "Epoch 4/20\n",
      "60000/60000 [==============================] - 15s 256us/step - loss: 0.4207 - acc: 0.8816 - val_loss: 0.1858 - val_acc: 0.9482\n",
      "Epoch 5/20\n",
      "60000/60000 [==============================] - 15s 257us/step - loss: 0.3443 - acc: 0.9062 - val_loss: 0.1620 - val_acc: 0.9545\n",
      "Epoch 6/20\n",
      "60000/60000 [==============================] - 15s 257us/step - loss: 0.2981 - acc: 0.9207 - val_loss: 0.1413 - val_acc: 0.9623\n",
      "Epoch 7/20\n",
      "60000/60000 [==============================] - 16s 263us/step - loss: 0.2687 - acc: 0.9288 - val_loss: 0.1296 - val_acc: 0.9661\n",
      "Epoch 8/20\n",
      "60000/60000 [==============================] - 16s 259us/step - loss: 0.2472 - acc: 0.9342 - val_loss: 0.1295 - val_acc: 0.9665\n",
      "Epoch 9/20\n",
      "60000/60000 [==============================] - 15s 256us/step - loss: 0.2266 - acc: 0.9416 - val_loss: 0.1162 - val_acc: 0.9707\n",
      "Epoch 10/20\n",
      "60000/60000 [==============================] - 15s 256us/step - loss: 0.2091 - acc: 0.9460 - val_loss: 0.1112 - val_acc: 0.9712\n",
      "Epoch 11/20\n",
      "60000/60000 [==============================] - 15s 255us/step - loss: 0.2041 - acc: 0.9477 - val_loss: 0.1082 - val_acc: 0.9705\n",
      "Epoch 12/20\n",
      "60000/60000 [==============================] - 15s 256us/step - loss: 0.1917 - acc: 0.9513 - val_loss: 0.1036 - val_acc: 0.9724\n",
      "Epoch 13/20\n",
      "60000/60000 [==============================] - 15s 255us/step - loss: 0.1810 - acc: 0.9526 - val_loss: 0.0982 - val_acc: 0.9749\n",
      "Epoch 14/20\n",
      "60000/60000 [==============================] - 15s 257us/step - loss: 0.1702 - acc: 0.9560 - val_loss: 0.0951 - val_acc: 0.9759\n",
      "Epoch 15/20\n",
      "60000/60000 [==============================] - 15s 256us/step - loss: 0.1605 - acc: 0.9597 - val_loss: 0.0927 - val_acc: 0.9750\n",
      "Epoch 16/20\n",
      "60000/60000 [==============================] - 15s 257us/step - loss: 0.1594 - acc: 0.9584 - val_loss: 0.0868 - val_acc: 0.9787\n",
      "Epoch 17/20\n",
      "60000/60000 [==============================] - 15s 257us/step - loss: 0.1551 - acc: 0.9606 - val_loss: 0.0910 - val_acc: 0.9783\n",
      "Epoch 18/20\n",
      "60000/60000 [==============================] - 15s 257us/step - loss: 0.1454 - acc: 0.9624 - val_loss: 0.0860 - val_acc: 0.9794\n",
      "Epoch 19/20\n",
      "60000/60000 [==============================] - 15s 258us/step - loss: 0.1369 - acc: 0.9650 - val_loss: 0.0863 - val_acc: 0.9786\n",
      "Epoch 20/20\n",
      "60000/60000 [==============================] - 16s 262us/step - loss: 0.1364 - acc: 0.9649 - val_loss: 0.0864 - val_acc: 0.9793\n"
     ]
    }
   ],
   "source": [
    "model_drop_5.compile(optimizer='adam', loss='categorical_crossentropy', metrics=['accuracy'])\n",
    "\n",
    "history = model_drop_5.fit(X_train, Y_train, batch_size=batch_size, epochs=nb_epoch, verbose=1, validation_data=(X_test, Y_test))"
   ]
  },
  {
   "cell_type": "code",
   "execution_count": 28,
   "metadata": {
    "colab": {
     "base_uri": "https://localhost:8080/",
     "height": 313
    },
    "colab_type": "code",
    "id": "P8k6urCn5VER",
    "outputId": "4bfff4b7-11e1-4f35-ef86-f670ea26077b"
   },
   "outputs": [
    {
     "name": "stdout",
     "output_type": "stream",
     "text": [
      "Test score: 0.08643636736939661\n",
      "Test accuracy: 0.9793\n"
     ]
    },
    {
     "data": {
      "image/png": "[encoded data removed]",
      "text/plain": [
       "<Figure size 432x288 with 1 Axes>"
      ]
     },
     "metadata": {
      "tags": []
     },
     "output_type": "display_data"
    }
   ],
   "source": [
    "score = model_drop_5.evaluate(X_test, Y_test, verbose=0) \n",
    "print('Test score:', score[0]) \n",
    "print('Test accuracy:', score[1])\n",
    "\n",
    "fig,ax = plt.subplots(1,1)\n",
    "ax.set_xlabel('epoch') ; ax.set_ylabel('Categorical Crossentropy Loss')\n",
    "\n",
    "# list of epoch numbers\n",
    "x = list(range(1,nb_epoch+1))\n",
    "\n",
    "# print(history.history.keys())\n",
    "# dict_keys(['val_loss', 'val_acc', 'loss', 'acc'])\n",
    "# history = model_drop.fit(X_train, Y_train, batch_size=batch_size, epochs=nb_epoch, verbose=1, validation_data=(X_test, Y_test))\n",
    "\n",
    "# we will get val_loss and val_acc only when you pass the paramter validation_data\n",
    "# val_loss : validation loss\n",
    "# val_acc : validation accuracy\n",
    "\n",
    "# loss : training loss\n",
    "# acc : train accuracy\n",
    "# for each key in histrory.histrory we will have a list of length equal to number of epochs\n",
    "\n",
    "vy = history.history['val_loss']\n",
    "ty = history.history['loss']\n",
    "plt_dynamic(x, vy, ty, ax)"
   ]
  },
  {
   "cell_type": "markdown",
   "metadata": {},
   "source": [
    "<h2> MLP of 5-hidden Layers + AdamOptimizer </h2>"
   ]
  },
  {
   "cell_type": "code",
   "execution_count": 29,
   "metadata": {
    "colab": {
     "base_uri": "https://localhost:8080/",
     "height": 340
    },
    "colab_type": "code",
    "id": "9pOG25UO-aIX",
    "outputId": "f42207fb-aa17-4478-aeb8-4a571a23edfe"
   },
   "outputs": [
    {
     "name": "stdout",
     "output_type": "stream",
     "text": [
      "_________________________________________________________________\n",
      "Layer (type)                 Output Shape              Param #   \n",
      "=================================================================\n",
      "dense_21 (Dense)             (None, 500)               392500    \n",
      "_________________________________________________________________\n",
      "dense_22 (Dense)             (None, 400)               200400    \n",
      "_________________________________________________________________\n",
      "dense_23 (Dense)             (None, 300)               120300    \n",
      "_________________________________________________________________\n",
      "dense_24 (Dense)             (None, 150)               45150     \n",
      "_________________________________________________________________\n",
      "dense_25 (Dense)             (None, 50)                7550      \n",
      "_________________________________________________________________\n",
      "dense_26 (Dense)             (None, 10)                510       \n",
      "=================================================================\n",
      "Total params: 766,410\n",
      "Trainable params: 766,410\n",
      "Non-trainable params: 0\n",
      "_________________________________________________________________\n"
     ]
    }
   ],
   "source": [
    "# https://stackoverflow.com/questions/34716454/where-do-i-call-the-batchnormalization-function-in-keras\n",
    "\n",
    "from keras.layers import Dropout\n",
    "from keras.layers.normalization import BatchNormalization\n",
    "model_nodrop_5 = Sequential()\n",
    "\n",
    "model_nodrop_5.add(Dense(500, activation='relu', input_shape=(input_dim,), kernel_initializer=RandomNormal(mean=0.0, stddev=0.039, seed=None)))\n",
    "\n",
    "model_nodrop_5.add(Dense(400, activation='relu', kernel_initializer=RandomNormal(mean=0.0, stddev=0.55, seed=None)) )\n",
    "\n",
    "model_nodrop_5.add(Dense(300, activation='relu', kernel_initializer=RandomNormal(mean=0.0, stddev=0.55, seed=None)) )\n",
    "\n",
    "model_nodrop_5.add(Dense(150, activation='relu', kernel_initializer=RandomNormal(mean=0.0, stddev=0.55, seed=None)) )\n",
    "\n",
    "\n",
    "model_nodrop_5.add(Dense(50, activation='relu', kernel_initializer=RandomNormal(mean=0.0, stddev=0.55, seed=None)) )\n",
    "\n",
    "model_nodrop_5.add(Dense(output_dim, activation='softmax'))\n",
    "model_nodrop_5.summary()"
   ]
  },
  {
   "cell_type": "code",
   "execution_count": 30,
   "metadata": {
    "colab": {
     "base_uri": "https://localhost:8080/",
     "height": 714
    },
    "colab_type": "code",
    "id": "e2g-2BLk-aXF",
    "outputId": "e9992fae-f94f-4858-bdbe-3d871b816e01"
   },
   "outputs": [
    {
     "name": "stdout",
     "output_type": "stream",
     "text": [
      "Train on 60000 samples, validate on 10000 samples\n",
      "Epoch 1/20\n",
      "60000/60000 [==============================] - 13s 209us/step - loss: 14.5270 - acc: 0.0987 - val_loss: 14.5385 - val_acc: 0.0980\n",
      "Epoch 2/20\n",
      "60000/60000 [==============================] - 11s 188us/step - loss: 14.5270 - acc: 0.0987 - val_loss: 14.5385 - val_acc: 0.0980\n",
      "Epoch 3/20\n",
      "60000/60000 [==============================] - 11s 188us/step - loss: 14.5270 - acc: 0.0987 - val_loss: 14.5385 - val_acc: 0.0980\n",
      "Epoch 4/20\n",
      "60000/60000 [==============================] - 11s 191us/step - loss: 14.5270 - acc: 0.0987 - val_loss: 14.5385 - val_acc: 0.0980\n",
      "Epoch 5/20\n",
      "60000/60000 [==============================] - 11s 189us/step - loss: 14.5270 - acc: 0.0987 - val_loss: 14.5385 - val_acc: 0.0980\n",
      "Epoch 6/20\n",
      "60000/60000 [==============================] - 11s 191us/step - loss: 14.5270 - acc: 0.0987 - val_loss: 14.5385 - val_acc: 0.0980\n",
      "Epoch 7/20\n",
      "60000/60000 [==============================] - 11s 189us/step - loss: 14.5270 - acc: 0.0987 - val_loss: 14.5385 - val_acc: 0.0980\n",
      "Epoch 8/20\n",
      "60000/60000 [==============================] - 11s 190us/step - loss: 14.5270 - acc: 0.0987 - val_loss: 14.5385 - val_acc: 0.0980\n",
      "Epoch 9/20\n",
      "60000/60000 [==============================] - 12s 192us/step - loss: 14.5270 - acc: 0.0987 - val_loss: 14.5385 - val_acc: 0.0980\n",
      "Epoch 10/20\n",
      "60000/60000 [==============================] - 12s 202us/step - loss: 14.5270 - acc: 0.0987 - val_loss: 14.5385 - val_acc: 0.0980\n",
      "Epoch 11/20\n",
      "60000/60000 [==============================] - 11s 190us/step - loss: 14.5270 - acc: 0.0987 - val_loss: 14.5385 - val_acc: 0.0980\n",
      "Epoch 12/20\n",
      "60000/60000 [==============================] - 11s 191us/step - loss: 14.5270 - acc: 0.0987 - val_loss: 14.5385 - val_acc: 0.0980\n",
      "Epoch 13/20\n",
      "60000/60000 [==============================] - 11s 190us/step - loss: 14.5270 - acc: 0.0987 - val_loss: 14.5385 - val_acc: 0.0980\n",
      "Epoch 14/20\n",
      "60000/60000 [==============================] - 11s 190us/step - loss: 14.5270 - acc: 0.0987 - val_loss: 14.5385 - val_acc: 0.0980\n",
      "Epoch 15/20\n",
      "60000/60000 [==============================] - 11s 190us/step - loss: 14.5270 - acc: 0.0987 - val_loss: 14.5385 - val_acc: 0.0980\n",
      "Epoch 16/20\n",
      "60000/60000 [==============================] - 11s 191us/step - loss: 14.5270 - acc: 0.0987 - val_loss: 14.5385 - val_acc: 0.0980\n",
      "Epoch 17/20\n",
      "60000/60000 [==============================] - 11s 191us/step - loss: 14.5270 - acc: 0.0987 - val_loss: 14.5385 - val_acc: 0.0980\n",
      "Epoch 18/20\n",
      "60000/60000 [==============================] - 12s 192us/step - loss: 14.5270 - acc: 0.0987 - val_loss: 14.5385 - val_acc: 0.0980\n",
      "Epoch 19/20\n",
      "60000/60000 [==============================] - 11s 189us/step - loss: 14.5270 - acc: 0.0987 - val_loss: 14.5385 - val_acc: 0.0980\n",
      "Epoch 20/20\n",
      "60000/60000 [==============================] - 11s 192us/step - loss: 14.5270 - acc: 0.0987 - val_loss: 14.5385 - val_acc: 0.0980\n"
     ]
    }
   ],
   "source": [
    "model_nodrop_5.compile(optimizer='adam', loss='categorical_crossentropy', metrics=['accuracy'])\n",
    "\n",
    "history = model_nodrop_5.fit(X_train, Y_train, batch_size=batch_size, epochs=nb_epoch, verbose=1, validation_data=(X_test, Y_test))"
   ]
  },
  {
   "cell_type": "code",
   "execution_count": 31,
   "metadata": {
    "colab": {
     "base_uri": "https://localhost:8080/",
     "height": 313
    },
    "colab_type": "code",
    "id": "OH3rTasr-aju",
    "outputId": "f6aec194-df22-4be2-a891-3c906b7dc9f2"
   },
   "outputs": [
    {
     "name": "stdout",
     "output_type": "stream",
     "text": [
      "Test score: 14.538521841430665\n",
      "Test accuracy: 0.098\n"
     ]
    },
    {
     "data": {
      "image/png": "[encoded data removed]",
      "text/plain": [
       "<Figure size 432x288 with 1 Axes>"
      ]
     },
     "metadata": {
      "tags": []
     },
     "output_type": "display_data"
    }
   ],
   "source": [
    "score = model_nodrop_5.evaluate(X_test, Y_test, verbose=0) \n",
    "print('Test score:', score[0]) \n",
    "print('Test accuracy:', score[1])\n",
    "\n",
    "fig,ax = plt.subplots(1,1)\n",
    "ax.set_xlabel('epoch') ; ax.set_ylabel('Categorical Crossentropy Loss')\n",
    "\n",
    "# list of epoch numbers\n",
    "x = list(range(1,nb_epoch+1))\n",
    "\n",
    "# print(history.history.keys())\n",
    "# dict_keys(['val_loss', 'val_acc', 'loss', 'acc'])\n",
    "# history = model_drop.fit(X_train, Y_train, batch_size=batch_size, epochs=nb_epoch, verbose=1, validation_data=(X_test, Y_test))\n",
    "\n",
    "# we will get val_loss and val_acc only when you pass the paramter validation_data\n",
    "# val_loss : validation loss\n",
    "# val_acc : validation accuracy\n",
    "\n",
    "# loss : training loss\n",
    "# acc : train accuracy\n",
    "# for each key in histrory.histrory we will have a list of length equal to number of epochs\n",
    "\n",
    "vy = history.history['val_loss']\n",
    "ty = history.history['loss']\n",
    "plt_dynamic(x, vy, ty, ax)"
   ]
  },
  {
   "cell_type": "markdown",
   "metadata": {},
   "source": [
    "__MLP with Batch Normalization and Dropout__"
   ]
  },
  {
   "cell_type": "code",
   "execution_count": 11,
   "metadata": {},
   "outputs": [
    {
     "data": {
      "text/html": [
       "<div>\n",
       "<style scoped>\n",
       "    .dataframe tbody tr th:only-of-type {\n",
       "        vertical-align: middle;\n",
       "    }\n",
       "\n",
       "    .dataframe tbody tr th {\n",
       "        vertical-align: top;\n",
       "    }\n",
       "\n",
       "    .dataframe thead th {\n",
       "        text-align: right;\n",
       "    }\n",
       "</style>\n",
       "<table border=\"1\" class=\"dataframe\">\n",
       "  <thead>\n",
       "    <tr style=\"text-align: right;\">\n",
       "      <th></th>\n",
       "      <th>Hidden layers</th>\n",
       "      <th>Test score</th>\n",
       "      <th>Accuracy</th>\n",
       "    </tr>\n",
       "  </thead>\n",
       "  <tbody>\n",
       "    <tr>\n",
       "      <th>0</th>\n",
       "      <td>2</td>\n",
       "      <td>0.06</td>\n",
       "      <td>0.9820</td>\n",
       "    </tr>\n",
       "    <tr>\n",
       "      <th>1</th>\n",
       "      <td>3</td>\n",
       "      <td>0.07</td>\n",
       "      <td>0.9804</td>\n",
       "    </tr>\n",
       "    <tr>\n",
       "      <th>2</th>\n",
       "      <td>5</td>\n",
       "      <td>0.08</td>\n",
       "      <td>0.9793</td>\n",
       "    </tr>\n",
       "  </tbody>\n",
       "</table>\n",
       "</div>"
      ],
      "text/plain": [
       "  Hidden layers  Test score  Accuracy\n",
       "0             2        0.06    0.9820\n",
       "1             3        0.07    0.9804\n",
       "2             5        0.08    0.9793"
      ]
     },
     "execution_count": 11,
     "metadata": {},
     "output_type": "execute_result"
    }
   ],
   "source": [
    "import pandas as pd\n",
    "models = pd.DataFrame({'Hidden layers': ['2', '3', \"5\"], 'Test score' : [0.06,0.07,0.08],'Accuracy': [0.9820,0.9804,0.9793]}, columns = [\"Hidden layers\",\"Test score\",\"Accuracy\"])\n",
    "models"
   ]
  },
  {
   "cell_type": "markdown",
   "metadata": {},
   "source": [
    "__MLP without Batch Normalization and Dropout__"
   ]
  },
  {
   "cell_type": "code",
   "execution_count": 12,
   "metadata": {},
   "outputs": [
    {
     "data": {
      "text/html": [
       "<div>\n",
       "<style scoped>\n",
       "    .dataframe tbody tr th:only-of-type {\n",
       "        vertical-align: middle;\n",
       "    }\n",
       "\n",
       "    .dataframe tbody tr th {\n",
       "        vertical-align: top;\n",
       "    }\n",
       "\n",
       "    .dataframe thead th {\n",
       "        text-align: right;\n",
       "    }\n",
       "</style>\n",
       "<table border=\"1\" class=\"dataframe\">\n",
       "  <thead>\n",
       "    <tr style=\"text-align: right;\">\n",
       "      <th></th>\n",
       "      <th>Hidden layers</th>\n",
       "      <th>Test score</th>\n",
       "      <th>Accuracy</th>\n",
       "    </tr>\n",
       "  </thead>\n",
       "  <tbody>\n",
       "    <tr>\n",
       "      <th>0</th>\n",
       "      <td>2</td>\n",
       "      <td>0.10</td>\n",
       "      <td>0.9813</td>\n",
       "    </tr>\n",
       "    <tr>\n",
       "      <th>1</th>\n",
       "      <td>3</td>\n",
       "      <td>0.12</td>\n",
       "      <td>0.9777</td>\n",
       "    </tr>\n",
       "    <tr>\n",
       "      <th>2</th>\n",
       "      <td>5</td>\n",
       "      <td>14.33</td>\n",
       "      <td>0.0980</td>\n",
       "    </tr>\n",
       "  </tbody>\n",
       "</table>\n",
       "</div>"
      ],
      "text/plain": [
       "  Hidden layers  Test score  Accuracy\n",
       "0             2        0.10    0.9813\n",
       "1             3        0.12    0.9777\n",
       "2             5       14.33    0.0980"
      ]
     },
     "execution_count": 12,
     "metadata": {},
     "output_type": "execute_result"
    }
   ],
   "source": [
    "models = pd.DataFrame({'Hidden layers': ['2', '3', \"5\"], 'Test score' : [0.10,0.12,14.33],'Accuracy': [0.9813,0.9777,0.098]}, columns = [\"Hidden layers\",\"Test score\",\"Accuracy\"])\n",
    "models"
   ]
  },
  {
   "cell_type": "code",
   "execution_count": null,
   "metadata": {},
   "outputs": [],
   "source": []
  }
 ],
 "metadata": {
  "colab": {
   "collapsed_sections": [],
   "name": "Untitled0.ipynb",
   "provenance": [],
   "version": "0.3.2"
  },
  "kernelspec": {
   "display_name": "Python 3",
   "language": "python",
   "name": "python3"
  },
  "language_info": {
   "codemirror_mode": {
    "name": "ipython",
    "version": 3
   },
   "file_extension": ".py",
   "mimetype": "text/x-python",
   "name": "python",
   "nbconvert_exporter": "python",
   "pygments_lexer": "ipython3",
   "version": "3.6.6"
  }
 },
 "nbformat": 4,
 "nbformat_minor": 1
}
