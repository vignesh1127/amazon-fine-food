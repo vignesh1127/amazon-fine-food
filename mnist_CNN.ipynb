{
 "cells": [
  {
   "cell_type": "markdown",
   "metadata": {},
   "source": [
    "# Assignment:Different CNN Architectures on MNIST dataset"
   ]
  },
  {
   "cell_type": "code",
   "execution_count": 1,
   "metadata": {
    "colab": {
     "base_uri": "https://localhost:8080/",
     "height": 68
    },
    "colab_type": "code",
    "id": "ieURigXoKi6w",
    "outputId": "405ff70b-774a-4ea9-e31b-4eaceffa2305"
   },
   "outputs": [
    {
     "name": "stderr",
     "output_type": "stream",
     "text": [
      "Using TensorFlow backend.\n"
     ]
    },
    {
     "name": "stdout",
     "output_type": "stream",
     "text": [
      "Downloading data from https://s3.amazonaws.com/img-datasets/mnist.npz\n",
      "11493376/11490434 [==============================] - 1s 0us/step\n"
     ]
    }
   ],
   "source": [
    "from __future__ import print_function\n",
    "import keras\n",
    "from keras.datasets import mnist\n",
    "from keras.models import Sequential\n",
    "from keras.layers import Dense, Dropout, Flatten\n",
    "from keras.layers import Conv2D, MaxPooling2D\n",
    "from keras import backend as K\n",
    "from keras.initializers import he_normal\n",
    "from keras.layers.normalization import BatchNormalization\n",
    "import numpy as np\n",
    "import matplotlib.pyplot as plt\n",
    "%matplotlib inline\n",
    "\n",
    "batch_size = 128\n",
    "num_classes = 10\n",
    "epochs = 12\n",
    "\n",
    "# input image dimensions\n",
    "img_rows, img_cols = 28, 28\n",
    "\n",
    "# the data, split between train and test sets\n",
    "(x_train, y_train), (x_test, y_test) = mnist.load_data()\n"
   ]
  },
  {
   "cell_type": "code",
   "execution_count": 2,
   "metadata": {
    "colab": {
     "base_uri": "https://localhost:8080/",
     "height": 68
    },
    "colab_type": "code",
    "id": "AXg5Q2HWKxwV",
    "outputId": "b7c000a1-b289-4eac-b13c-1034b51834bd"
   },
   "outputs": [
    {
     "name": "stdout",
     "output_type": "stream",
     "text": [
      "x_train shape: (60000, 28, 28, 1)\n",
      "60000 train samples\n",
      "10000 test samples\n"
     ]
    }
   ],
   "source": [
    "if K.image_data_format() == 'channels_first':\n",
    "    x_train = x_train.reshape(x_train.shape[0], 1, img_rows, img_cols)\n",
    "    x_test = x_test.reshape(x_test.shape[0], 1, img_rows, img_cols)\n",
    "    input_shape = (1, img_rows, img_cols)\n",
    "else:\n",
    "    x_train = x_train.reshape(x_train.shape[0], img_rows, img_cols, 1)\n",
    "    x_test = x_test.reshape(x_test.shape[0], img_rows, img_cols, 1)\n",
    "    input_shape = (img_rows, img_cols, 1)\n",
    "\n",
    "x_train = x_train.astype('float32')\n",
    "x_test = x_test.astype('float32')\n",
    "x_train /= 255\n",
    "x_test /= 255\n",
    "print('x_train shape:', x_train.shape)\n",
    "print(x_train.shape[0], 'train samples')\n",
    "print(x_test.shape[0], 'test samples')\n",
    "\n",
    "# convert class vectors to binary class matrices\n",
    "y_train = keras.utils.to_categorical(y_train, num_classes)\n",
    "y_test = keras.utils.to_categorical(y_test, num_classes)"
   ]
  },
  {
   "cell_type": "code",
   "execution_count": 0,
   "metadata": {
    "colab": {},
    "colab_type": "code",
    "id": "mu0XISF1MauX"
   },
   "outputs": [],
   "source": [
    "# this function is used draw Categorical Crossentropy Loss VS No. of epochs plot\n",
    "def plt_dynamic(x, vy, ty):\n",
    "  ax.plot(x, vy, 'b', label=\"Validation Loss\")\n",
    "  ax.plot(x, ty, 'r', label=\"Train Loss\")\n",
    "  plt.legend()\n",
    "  plt.grid()\n",
    "  plt.show()"
   ]
  },
  {
   "cell_type": "markdown",
   "metadata": {},
   "source": [
    "# CNN with 3 Convolutional layers and kernel size - (3X3)"
   ]
  },
  {
   "cell_type": "code",
   "execution_count": 4,
   "metadata": {
    "colab": {
     "base_uri": "https://localhost:8080/",
     "height": 1125
    },
    "colab_type": "code",
    "id": "fNYVR8lOKyGK",
    "outputId": "c4ae702b-4900-40a0-956e-b2ac95a7ef30"
   },
   "outputs": [
    {
     "name": "stdout",
     "output_type": "stream",
     "text": [
      "WARNING:tensorflow:From /usr/local/lib/python3.6/dist-packages/tensorflow/python/framework/op_def_library.py:263: colocate_with (from tensorflow.python.framework.ops) is deprecated and will be removed in a future version.\n",
      "Instructions for updating:\n",
      "Colocations handled automatically by placer.\n",
      "WARNING:tensorflow:From /usr/local/lib/python3.6/dist-packages/keras/backend/tensorflow_backend.py:3445: calling dropout (from tensorflow.python.ops.nn_ops) with keep_prob is deprecated and will be removed in a future version.\n",
      "Instructions for updating:\n",
      "Please use `rate` instead of `keep_prob`. Rate should be set to `rate = 1 - keep_prob`.\n",
      "_________________________________________________________________\n",
      "Layer (type)                 Output Shape              Param #   \n",
      "=================================================================\n",
      "conv2d_1 (Conv2D)            (None, 26, 26, 32)        320       \n",
      "_________________________________________________________________\n",
      "conv2d_2 (Conv2D)            (None, 24, 24, 64)        18496     \n",
      "_________________________________________________________________\n",
      "max_pooling2d_1 (MaxPooling2 (None, 12, 12, 64)        0         \n",
      "_________________________________________________________________\n",
      "dropout_1 (Dropout)          (None, 12, 12, 64)        0         \n",
      "_________________________________________________________________\n",
      "conv2d_3 (Conv2D)            (None, 10, 10, 128)       73856     \n",
      "_________________________________________________________________\n",
      "max_pooling2d_2 (MaxPooling2 (None, 5, 5, 128)         0         \n",
      "_________________________________________________________________\n",
      "dropout_2 (Dropout)          (None, 5, 5, 128)         0         \n",
      "_________________________________________________________________\n",
      "flatten_1 (Flatten)          (None, 3200)              0         \n",
      "_________________________________________________________________\n",
      "dense_1 (Dense)              (None, 256)               819456    \n",
      "_________________________________________________________________\n",
      "dropout_3 (Dropout)          (None, 256)               0         \n",
      "_________________________________________________________________\n",
      "dense_2 (Dense)              (None, 10)                2570      \n",
      "=================================================================\n",
      "Total params: 914,698\n",
      "Trainable params: 914,698\n",
      "Non-trainable params: 0\n",
      "_________________________________________________________________\n",
      "None\n",
      "WARNING:tensorflow:From /usr/local/lib/python3.6/dist-packages/tensorflow/python/ops/math_ops.py:3066: to_int32 (from tensorflow.python.ops.math_ops) is deprecated and will be removed in a future version.\n",
      "Instructions for updating:\n",
      "Use tf.cast instead.\n",
      "Train on 60000 samples, validate on 10000 samples\n",
      "Epoch 1/12\n",
      "60000/60000 [==============================] - 229s 4ms/step - loss: 0.2175 - acc: 0.9307 - val_loss: 0.0392 - val_acc: 0.9871\n",
      "Epoch 2/12\n",
      "60000/60000 [==============================] - 228s 4ms/step - loss: 0.0667 - acc: 0.9797 - val_loss: 0.0287 - val_acc: 0.9902\n",
      "Epoch 3/12\n",
      "60000/60000 [==============================] - 227s 4ms/step - loss: 0.0497 - acc: 0.9852 - val_loss: 0.0232 - val_acc: 0.9918\n",
      "Epoch 4/12\n",
      "60000/60000 [==============================] - 227s 4ms/step - loss: 0.0414 - acc: 0.9873 - val_loss: 0.0177 - val_acc: 0.9944\n",
      "Epoch 5/12\n",
      "60000/60000 [==============================] - 227s 4ms/step - loss: 0.0358 - acc: 0.9887 - val_loss: 0.0238 - val_acc: 0.9918\n",
      "Epoch 6/12\n",
      "60000/60000 [==============================] - 227s 4ms/step - loss: 0.0316 - acc: 0.9900 - val_loss: 0.0207 - val_acc: 0.9933\n",
      "Epoch 7/12\n",
      "60000/60000 [==============================] - 227s 4ms/step - loss: 0.0282 - acc: 0.9911 - val_loss: 0.0255 - val_acc: 0.9907\n",
      "Epoch 8/12\n",
      "60000/60000 [==============================] - 227s 4ms/step - loss: 0.0248 - acc: 0.9921 - val_loss: 0.0184 - val_acc: 0.9937\n",
      "Epoch 9/12\n",
      "60000/60000 [==============================] - 227s 4ms/step - loss: 0.0246 - acc: 0.9922 - val_loss: 0.0170 - val_acc: 0.9945\n",
      "Epoch 10/12\n",
      "60000/60000 [==============================] - 228s 4ms/step - loss: 0.0213 - acc: 0.9933 - val_loss: 0.0173 - val_acc: 0.9941\n",
      "Epoch 11/12\n",
      "60000/60000 [==============================] - 228s 4ms/step - loss: 0.0197 - acc: 0.9940 - val_loss: 0.0170 - val_acc: 0.9947\n",
      "Epoch 12/12\n",
      "60000/60000 [==============================] - 227s 4ms/step - loss: 0.0182 - acc: 0.9939 - val_loss: 0.0169 - val_acc: 0.9948\n"
     ]
    }
   ],
   "source": [
    "# Initialising the model\n",
    "model3 = Sequential()\n",
    "\n",
    "# Adding first conv layer\n",
    "model3.add(Conv2D(32, kernel_size=(3, 3),activation='relu',input_shape=input_shape))\n",
    "\n",
    "# Adding second conv layer\n",
    "model3.add(Conv2D(64, (3, 3), activation='relu'))\n",
    "\n",
    "# Adding Maxpooling layer\n",
    "model3.add(MaxPooling2D(pool_size=(2, 2)))\n",
    "\n",
    "# Adding Dropout\n",
    "model3.add(Dropout(0.25))\n",
    "\n",
    "# Adding third conv layer\n",
    "model3.add(Conv2D(128, (3, 3), activation='relu'))\n",
    "\n",
    "# Adding Maxpooling layer\n",
    "model3.add(MaxPooling2D(pool_size=(2, 2)))\n",
    "\n",
    "# Adding Dropout\n",
    "model3.add(Dropout(0.25))\n",
    "\n",
    "# Adding flatten layer\n",
    "model3.add(Flatten())\n",
    "\n",
    "# Adding first hidden layer\n",
    "model3.add(Dense(256, activation='relu',kernel_initializer=he_normal(seed=None)))\n",
    "\n",
    "# Adding Dropout\n",
    "model3.add(Dropout(0.5))\n",
    "\n",
    "# Adding output layer\n",
    "model3.add(Dense(num_classes, activation='softmax'))\n",
    "\n",
    "# Printing model Summary\n",
    "print(model3.summary())\n",
    "\n",
    "# Compiling the model\n",
    "model3.compile(optimizer='adam', loss='categorical_crossentropy', metrics=['accuracy'])\n",
    "\n",
    "# Fitting the data to the model\n",
    "history = model3.fit(x_train, y_train,batch_size=batch_size,epochs=epochs,verbose=1,validation_data=(x_test, y_test))"
   ]
  },
  {
   "cell_type": "code",
   "execution_count": 5,
   "metadata": {
    "colab": {
     "base_uri": "https://localhost:8080/",
     "height": 315
    },
    "colab_type": "code",
    "id": "yhswu3bjKyQ6",
    "outputId": "00aba772-7045-4fb2-c5c8-95fce391fbb6"
   },
   "outputs": [
    {
     "name": "stdout",
     "output_type": "stream",
     "text": [
      "Test score: 0.016924540818311743\n",
      "Test accuracy: 0.9948\n"
     ]
    },
    {
     "data": {
      "image/png": "[encoded data removed]",
      "text/plain": [
       "<Figure size 432x288 with 1 Axes>"
      ]
     },
     "metadata": {
      "tags": []
     },
     "output_type": "display_data"
    }
   ],
   "source": [
    "# Evaluating the model\n",
    "score = model3.evaluate(x_test, y_test, verbose=0) \n",
    "print('Test score:', score[0]) \n",
    "print('Test accuracy:', score[1])\n",
    "\n",
    "fig,ax = plt.subplots(1,1)\n",
    "ax.set_xlabel('epoch') ; ax.set_ylabel('Categorical Crossentropy Loss')\n",
    "\n",
    "# Plotting Train and Test Loss VS no. of epochs\n",
    "# list of epoch numbers\n",
    "x = list(range(1,epochs+1))\n",
    "\n",
    "# Validation loss\n",
    "vy = history.history['val_loss']\n",
    "# Training loss\n",
    "ty = history.history['loss']\n",
    "\n",
    "# Calling the function to draw the plot\n",
    "plt_dynamic(x, vy, ty)"
   ]
  },
  {
   "cell_type": "markdown",
   "metadata": {},
   "source": [
    "# CNN with 5 Convolutional layers and kernel size - (5X5)"
   ]
  },
  {
   "cell_type": "code",
   "execution_count": 6,
   "metadata": {
    "colab": {
     "base_uri": "https://localhost:8080/",
     "height": 1122
    },
    "colab_type": "code",
    "id": "zBvemHfZKyat",
    "outputId": "3ceed5a5-9d18-4c6f-be8f-7daa7d560aa7"
   },
   "outputs": [
    {
     "name": "stdout",
     "output_type": "stream",
     "text": [
      "_________________________________________________________________\n",
      "Layer (type)                 Output Shape              Param #   \n",
      "=================================================================\n",
      "conv2d_4 (Conv2D)            (None, 28, 28, 10)        260       \n",
      "_________________________________________________________________\n",
      "conv2d_5 (Conv2D)            (None, 24, 24, 20)        5020      \n",
      "_________________________________________________________________\n",
      "max_pooling2d_3 (MaxPooling2 (None, 12, 12, 20)        0         \n",
      "_________________________________________________________________\n",
      "dropout_4 (Dropout)          (None, 12, 12, 20)        0         \n",
      "_________________________________________________________________\n",
      "conv2d_6 (Conv2D)            (None, 12, 12, 35)        17535     \n",
      "_________________________________________________________________\n",
      "max_pooling2d_4 (MaxPooling2 (None, 6, 6, 35)          0         \n",
      "_________________________________________________________________\n",
      "dropout_5 (Dropout)          (None, 6, 6, 35)          0         \n",
      "_________________________________________________________________\n",
      "conv2d_7 (Conv2D)            (None, 6, 6, 70)          61320     \n",
      "_________________________________________________________________\n",
      "conv2d_8 (Conv2D)            (None, 2, 2, 80)          140080    \n",
      "_________________________________________________________________\n",
      "max_pooling2d_5 (MaxPooling2 (None, 1, 1, 80)          0         \n",
      "_________________________________________________________________\n",
      "dropout_6 (Dropout)          (None, 1, 1, 80)          0         \n",
      "_________________________________________________________________\n",
      "flatten_2 (Flatten)          (None, 80)                0         \n",
      "_________________________________________________________________\n",
      "dense_3 (Dense)              (None, 256)               20736     \n",
      "_________________________________________________________________\n",
      "batch_normalization_1 (Batch (None, 256)               1024      \n",
      "_________________________________________________________________\n",
      "dropout_7 (Dropout)          (None, 256)               0         \n",
      "_________________________________________________________________\n",
      "dense_4 (Dense)              (None, 10)                2570      \n",
      "=================================================================\n",
      "Total params: 248,545\n",
      "Trainable params: 248,033\n",
      "Non-trainable params: 512\n",
      "_________________________________________________________________\n",
      "None\n",
      "Train on 60000 samples, validate on 10000 samples\n",
      "Epoch 1/12\n",
      "60000/60000 [==============================] - 232s 4ms/step - loss: 0.4436 - acc: 0.8613 - val_loss: 0.0557 - val_acc: 0.9809\n",
      "Epoch 2/12\n",
      "60000/60000 [==============================] - 231s 4ms/step - loss: 0.1195 - acc: 0.9660 - val_loss: 0.0399 - val_acc: 0.9879\n",
      "Epoch 3/12\n",
      "60000/60000 [==============================] - 231s 4ms/step - loss: 0.0829 - acc: 0.9772 - val_loss: 0.0301 - val_acc: 0.9902\n",
      "Epoch 4/12\n",
      "60000/60000 [==============================] - 231s 4ms/step - loss: 0.0645 - acc: 0.9817 - val_loss: 0.0299 - val_acc: 0.9911\n",
      "Epoch 5/12\n",
      "60000/60000 [==============================] - 231s 4ms/step - loss: 0.0556 - acc: 0.9842 - val_loss: 0.0258 - val_acc: 0.9921\n",
      "Epoch 6/12\n",
      "60000/60000 [==============================] - 232s 4ms/step - loss: 0.0490 - acc: 0.9864 - val_loss: 0.0233 - val_acc: 0.9928\n",
      "Epoch 7/12\n",
      "60000/60000 [==============================] - 232s 4ms/step - loss: 0.0468 - acc: 0.9872 - val_loss: 0.0229 - val_acc: 0.9929\n",
      "Epoch 8/12\n",
      "60000/60000 [==============================] - 231s 4ms/step - loss: 0.0403 - acc: 0.9887 - val_loss: 0.0185 - val_acc: 0.9950\n",
      "Epoch 9/12\n",
      "60000/60000 [==============================] - 232s 4ms/step - loss: 0.0383 - acc: 0.9896 - val_loss: 0.0192 - val_acc: 0.9941\n",
      "Epoch 10/12\n",
      "60000/60000 [==============================] - 232s 4ms/step - loss: 0.0349 - acc: 0.9902 - val_loss: 0.0256 - val_acc: 0.9919\n",
      "Epoch 11/12\n",
      "60000/60000 [==============================] - 232s 4ms/step - loss: 0.0334 - acc: 0.9904 - val_loss: 0.0205 - val_acc: 0.9941\n",
      "Epoch 12/12\n",
      "60000/60000 [==============================] - 232s 4ms/step - loss: 0.0313 - acc: 0.9912 - val_loss: 0.0215 - val_acc: 0.9932\n"
     ]
    }
   ],
   "source": [
    "# Initialising the model\n",
    "model5 = Sequential()\n",
    "\n",
    "# Adding first conv layer\n",
    "model5.add(Conv2D(10, kernel_size=(5, 5),padding='same',activation='relu',input_shape=input_shape))\n",
    "\n",
    "# Adding second conv layer\n",
    "model5.add(Conv2D(20, (5, 5), activation='relu'))\n",
    "\n",
    "# Adding Maxpooling layer\n",
    "model5.add(MaxPooling2D(pool_size=(2, 2),padding='same'))\n",
    "\n",
    "# Adding Dropout\n",
    "model5.add(Dropout(0.25))\n",
    "\n",
    "# Adding third conv layer\n",
    "model5.add(Conv2D(35, (5, 5),padding='same', activation='relu'))\n",
    "\n",
    "# Adding Maxpooling layer\n",
    "model5.add(MaxPooling2D(pool_size=(2, 2),padding='same'))\n",
    "\n",
    "# Adding Dropout\n",
    "model5.add(Dropout(0.25))\n",
    "\n",
    "# Adding fourth conv layer\n",
    "model5.add(Conv2D(70, (5, 5),padding='same',activation='relu'))\n",
    "\n",
    "# Adding fifth conv layer\n",
    "model5.add(Conv2D(80, (5, 5), activation='relu'))\n",
    "\n",
    "# Adding Maxpooling layer\n",
    "model5.add(MaxPooling2D(pool_size=(2, 2),padding='same'))\n",
    "\n",
    "# Adding Dropout\n",
    "model5.add(Dropout(0.25))\n",
    "\n",
    "# Adding flatten layer\n",
    "model5.add(Flatten())\n",
    "\n",
    "# Adding first hidden layer\n",
    "model5.add(Dense(256, activation='relu',kernel_initializer=he_normal(seed=None)))\n",
    "\n",
    "# Adding Batch Normalization\n",
    "model5.add(BatchNormalization())\n",
    "\n",
    "# Adding Dropout\n",
    "model5.add(Dropout(0.5))\n",
    "\n",
    "\n",
    "# Adding output layer\n",
    "model5.add(Dense(num_classes, activation='softmax'))\n",
    "\n",
    "# Printing model Summary\n",
    "print(model5.summary())\n",
    "\n",
    "# Compiling the model\n",
    "model5.compile(optimizer='adam', loss='categorical_crossentropy', metrics=['accuracy'])\n",
    "\n",
    "# Fitting the data to the model\n",
    "history= model5.fit(x_train, y_train,batch_size=batch_size,epochs=epochs,verbose=1,validation_data=(x_test, y_test))"
   ]
  },
  {
   "cell_type": "code",
   "execution_count": 7,
   "metadata": {
    "colab": {
     "base_uri": "https://localhost:8080/",
     "height": 313
    },
    "colab_type": "code",
    "id": "SquKVfxyKyi_",
    "outputId": "f49d8bec-8029-4d3a-e69c-ee475d59c73e"
   },
   "outputs": [
    {
     "name": "stdout",
     "output_type": "stream",
     "text": [
      "Test score: 0.021511626279931806\n",
      "Test accuracy: 0.9932\n"
     ]
    },
    {
     "data": {
      "image/png": "[encoded data removed]",
      "text/plain": [
       "<Figure size 432x288 with 1 Axes>"
      ]
     },
     "metadata": {
      "tags": []
     },
     "output_type": "display_data"
    }
   ],
   "source": [
    "# Evaluating the model\n",
    "score = model5.evaluate(x_test, y_test, verbose=0) \n",
    "print('Test score:', score[0]) \n",
    "print('Test accuracy:', score[1])\n",
    "\n",
    "fig,ax = plt.subplots(1,1)\n",
    "ax.set_xlabel('epoch') ; ax.set_ylabel('Categorical Crossentropy Loss')\n",
    "\n",
    "# Plotting Train and Test Loss VS no. of epochs\n",
    "# list of epoch numbers\n",
    "x = list(range(1,epochs+1))\n",
    "\n",
    "# Validation loss\n",
    "vy = history.history['val_loss']\n",
    "# Training loss\n",
    "ty = history.history['loss']\n",
    "\n",
    "# Calling the function to draw the plot\n",
    "plt_dynamic(x, vy, ty)"
   ]
  },
  {
   "cell_type": "markdown",
   "metadata": {},
   "source": [
    "# CNN with 7 Convolutional layers and kernel size - (2X2)"
   ]
  },
  {
   "cell_type": "code",
   "execution_count": 8,
   "metadata": {
    "colab": {
     "base_uri": "https://localhost:8080/",
     "height": 1292
    },
    "colab_type": "code",
    "id": "HnpabBOgKyqu",
    "outputId": "6f5ad51a-8769-4a05-d28f-cd2b4f344cc1"
   },
   "outputs": [
    {
     "name": "stdout",
     "output_type": "stream",
     "text": [
      "_________________________________________________________________\n",
      "Layer (type)                 Output Shape              Param #   \n",
      "=================================================================\n",
      "conv2d_9 (Conv2D)            (None, 28, 28, 10)        50        \n",
      "_________________________________________________________________\n",
      "conv2d_10 (Conv2D)           (None, 27, 27, 20)        820       \n",
      "_________________________________________________________________\n",
      "max_pooling2d_6 (MaxPooling2 (None, 25, 25, 20)        0         \n",
      "_________________________________________________________________\n",
      "dropout_8 (Dropout)          (None, 25, 25, 20)        0         \n",
      "_________________________________________________________________\n",
      "conv2d_11 (Conv2D)           (None, 24, 24, 40)        3240      \n",
      "_________________________________________________________________\n",
      "max_pooling2d_7 (MaxPooling2 (None, 12, 12, 40)        0         \n",
      "_________________________________________________________________\n",
      "conv2d_12 (Conv2D)           (None, 12, 12, 60)        9660      \n",
      "_________________________________________________________________\n",
      "conv2d_13 (Conv2D)           (None, 11, 11, 120)       28920     \n",
      "_________________________________________________________________\n",
      "max_pooling2d_8 (MaxPooling2 (None, 4, 4, 120)         0         \n",
      "_________________________________________________________________\n",
      "dropout_9 (Dropout)          (None, 4, 4, 120)         0         \n",
      "_________________________________________________________________\n",
      "conv2d_14 (Conv2D)           (None, 4, 4, 120)         57720     \n",
      "_________________________________________________________________\n",
      "conv2d_15 (Conv2D)           (None, 3, 3, 240)         115440    \n",
      "_________________________________________________________________\n",
      "max_pooling2d_9 (MaxPooling2 (None, 2, 2, 240)         0         \n",
      "_________________________________________________________________\n",
      "dropout_10 (Dropout)         (None, 2, 2, 240)         0         \n",
      "_________________________________________________________________\n",
      "flatten_3 (Flatten)          (None, 960)               0         \n",
      "_________________________________________________________________\n",
      "dense_5 (Dense)              (None, 256)               246016    \n",
      "_________________________________________________________________\n",
      "batch_normalization_2 (Batch (None, 256)               1024      \n",
      "_________________________________________________________________\n",
      "dropout_11 (Dropout)         (None, 256)               0         \n",
      "_________________________________________________________________\n",
      "dense_6 (Dense)              (None, 128)               32896     \n",
      "_________________________________________________________________\n",
      "dropout_12 (Dropout)         (None, 128)               0         \n",
      "_________________________________________________________________\n",
      "dense_7 (Dense)              (None, 10)                1290      \n",
      "=================================================================\n",
      "Total params: 497,076\n",
      "Trainable params: 496,564\n",
      "Non-trainable params: 512\n",
      "_________________________________________________________________\n",
      "None\n",
      "Train on 60000 samples, validate on 10000 samples\n",
      "Epoch 1/12\n",
      "60000/60000 [==============================] - 191s 3ms/step - loss: 0.5200 - acc: 0.8264 - val_loss: 0.0519 - val_acc: 0.9848\n",
      "Epoch 2/12\n",
      "60000/60000 [==============================] - 190s 3ms/step - loss: 0.1031 - acc: 0.9689 - val_loss: 0.0760 - val_acc: 0.9770\n",
      "Epoch 3/12\n",
      "60000/60000 [==============================] - 189s 3ms/step - loss: 0.0791 - acc: 0.9770 - val_loss: 0.0325 - val_acc: 0.9903\n",
      "Epoch 4/12\n",
      "60000/60000 [==============================] - 190s 3ms/step - loss: 0.0602 - acc: 0.9823 - val_loss: 0.0458 - val_acc: 0.9862\n",
      "Epoch 5/12\n",
      "60000/60000 [==============================] - 190s 3ms/step - loss: 0.0535 - acc: 0.9848 - val_loss: 0.0349 - val_acc: 0.9896\n",
      "Epoch 6/12\n",
      "60000/60000 [==============================] - 190s 3ms/step - loss: 0.0480 - acc: 0.9860 - val_loss: 0.0196 - val_acc: 0.9935\n",
      "Epoch 7/12\n",
      "60000/60000 [==============================] - 190s 3ms/step - loss: 0.0438 - acc: 0.9871 - val_loss: 0.0223 - val_acc: 0.9932\n",
      "Epoch 8/12\n",
      "60000/60000 [==============================] - 190s 3ms/step - loss: 0.0369 - acc: 0.9892 - val_loss: 0.0228 - val_acc: 0.9931\n",
      "Epoch 9/12\n",
      "60000/60000 [==============================] - 189s 3ms/step - loss: 0.0370 - acc: 0.9895 - val_loss: 0.0296 - val_acc: 0.9917\n",
      "Epoch 10/12\n",
      "60000/60000 [==============================] - 190s 3ms/step - loss: 0.0364 - acc: 0.9895 - val_loss: 0.0496 - val_acc: 0.9854\n",
      "Epoch 11/12\n",
      "60000/60000 [==============================] - 190s 3ms/step - loss: 0.0324 - acc: 0.9903 - val_loss: 0.0266 - val_acc: 0.9923\n",
      "Epoch 12/12\n",
      "60000/60000 [==============================] - 189s 3ms/step - loss: 0.0312 - acc: 0.9908 - val_loss: 0.0352 - val_acc: 0.9909\n"
     ]
    }
   ],
   "source": [
    "model7 = Sequential()\n",
    "\n",
    "# Adding first conv layer\n",
    "model7.add(Conv2D(10, kernel_size=(2, 2),padding='same',activation='relu',input_shape=input_shape))\n",
    "\n",
    "# Adding second conv layer\n",
    "model7.add(Conv2D(20, (2, 2), activation='relu'))\n",
    "\n",
    "# Adding Maxpooling layer\n",
    "model7.add(MaxPooling2D(pool_size=(3, 3), strides=(1,1)))\n",
    "\n",
    "# Adding Dropout\n",
    "model7.add(Dropout(0.3))\n",
    "\n",
    "# Adding third conv layer\n",
    "model7.add(Conv2D(40, (2, 2), activation='relu'))\n",
    "\n",
    "# Adding Maxpooling layer\n",
    "model7.add(MaxPooling2D(pool_size=(2, 2),padding='same'))\n",
    "\n",
    "\n",
    "# Adding fourth conv layer\n",
    "model7.add(Conv2D(60, (2, 2),padding='same',activation='relu'))\n",
    "\n",
    "# Adding fifth conv layer\n",
    "model7.add(Conv2D(120, (2, 2), activation='relu'))\n",
    "\n",
    "# Adding Maxpooling layer\n",
    "model7.add(MaxPooling2D(pool_size=(3, 3),padding='same'))\n",
    "\n",
    "# Adding Dropout\n",
    "model7.add(Dropout(0.25))\n",
    "\n",
    "# Adding sixth conv layer\n",
    "model7.add(Conv2D(120, (2, 2),padding='same',activation='relu'))\n",
    "\n",
    "# Adding seventh conv layer\n",
    "model7.add(Conv2D(240, (2, 2), activation='relu'))\n",
    "\n",
    "# Adding Maxpooling layer\n",
    "model7.add(MaxPooling2D(pool_size=(2, 2), strides=(1,1)))\n",
    "\n",
    "# Adding Dropout\n",
    "model7.add(Dropout(0.25))\n",
    "\n",
    "# Adding flatten layer\n",
    "model7.add(Flatten())\n",
    "\n",
    "# Adding first hidden layer\n",
    "model7.add(Dense(256, activation='relu',kernel_initializer=he_normal(seed=None)))\n",
    "\n",
    "# Adding Batch Normalization\n",
    "model7.add(BatchNormalization())\n",
    "\n",
    "# Adding Dropout\n",
    "model7.add(Dropout(0.5))\n",
    "\n",
    "# Adding second hidden layer\n",
    "model7.add(Dense(128, activation='relu',kernel_initializer=he_normal(seed=None)))\n",
    "\n",
    "# Adding Dropout\n",
    "model7.add(Dropout(0.25))\n",
    "\n",
    "# Adding output layer\n",
    "model7.add(Dense(num_classes, activation='softmax'))\n",
    "\n",
    "# Printing model Summary\n",
    "print(model7.summary())\n",
    "\n",
    "# Compiling the model\n",
    "model7.compile(optimizer='adam', loss='categorical_crossentropy', metrics=['accuracy'])\n",
    "\n",
    "# Fitting the data to the model\n",
    "history = model7.fit(x_train, y_train,batch_size=batch_size,epochs=epochs,verbose=1,validation_data=(x_test, y_test))"
   ]
  },
  {
   "cell_type": "code",
   "execution_count": 9,
   "metadata": {
    "colab": {
     "base_uri": "https://localhost:8080/",
     "height": 313
    },
    "colab_type": "code",
    "id": "h_aEMlouKy0h",
    "outputId": "d37bcb16-e7a1-44ea-bd65-d068bce24083"
   },
   "outputs": [
    {
     "name": "stdout",
     "output_type": "stream",
     "text": [
      "Test score: 0.03518788337475271\n",
      "Test accuracy: 0.9909\n"
     ]
    },
    {
     "data": {
      "image/png": "[encoded data removed]",
      "text/plain": [
       "<Figure size 432x288 with 1 Axes>"
      ]
     },
     "metadata": {
      "tags": []
     },
     "output_type": "display_data"
    }
   ],
   "source": [
    "# Evaluating the model\n",
    "score = model7.evaluate(x_test, y_test, verbose=0) \n",
    "print('Test score:', score[0]) \n",
    "print('Test accuracy:', score[1])\n",
    "\n",
    "fig,ax = plt.subplots(1,1)\n",
    "ax.set_xlabel('epoch') ; ax.set_ylabel('Categorical Crossentropy Loss')\n",
    "\n",
    "# Plotting Train and Test Loss VS no. of epochs\n",
    "# list of epoch numbers\n",
    "x = list(range(1,epochs+1))\n",
    "\n",
    "# Validation loss\n",
    "vy = history.history['val_loss']\n",
    "# Training loss\n",
    "ty = history.history['loss']\n",
    "\n",
    "# Calling the function to draw the plot\n",
    "plt_dynamic(x, vy, ty)"
   ]
  },
  {
   "cell_type": "code",
   "execution_count": 11,
   "metadata": {
    "colab": {
     "base_uri": "https://localhost:8080/",
     "height": 142
    },
    "colab_type": "code",
    "id": "s4UqXbK4Ky9M",
    "outputId": "298c82c4-4dd2-45ad-c83c-a168ccf36a6f"
   },
   "outputs": [
    {
     "data": {
      "text/html": [
       "<div>\n",
       "<style scoped>\n",
       "    .dataframe tbody tr th:only-of-type {\n",
       "        vertical-align: middle;\n",
       "    }\n",
       "\n",
       "    .dataframe tbody tr th {\n",
       "        vertical-align: top;\n",
       "    }\n",
       "\n",
       "    .dataframe thead th {\n",
       "        text-align: right;\n",
       "    }\n",
       "</style>\n",
       "<table border=\"1\" class=\"dataframe\">\n",
       "  <thead>\n",
       "    <tr style=\"text-align: right;\">\n",
       "      <th></th>\n",
       "      <th>Model</th>\n",
       "      <th>Test score</th>\n",
       "      <th>Accuracy</th>\n",
       "    </tr>\n",
       "  </thead>\n",
       "  <tbody>\n",
       "    <tr>\n",
       "      <th>0</th>\n",
       "      <td>CNN 3-conv layer with kernal size (3,3)</td>\n",
       "      <td>0.019</td>\n",
       "      <td>0.9943</td>\n",
       "    </tr>\n",
       "    <tr>\n",
       "      <th>1</th>\n",
       "      <td>CNN 5-conv layer with kernal size(5,5)</td>\n",
       "      <td>0.021</td>\n",
       "      <td>0.9948</td>\n",
       "    </tr>\n",
       "    <tr>\n",
       "      <th>2</th>\n",
       "      <td>CNN 7-conv layer with kernal size(2,2)</td>\n",
       "      <td>0.035</td>\n",
       "      <td>0.9909</td>\n",
       "    </tr>\n",
       "  </tbody>\n",
       "</table>\n",
       "</div>"
      ],
      "text/plain": [
       "                                     Model  Test score  Accuracy\n",
       "0  CNN 3-conv layer with kernal size (3,3)       0.019    0.9943\n",
       "1   CNN 5-conv layer with kernal size(5,5)       0.021    0.9948\n",
       "2   CNN 7-conv layer with kernal size(2,2)       0.035    0.9909"
      ]
     },
     "execution_count": 11,
     "metadata": {
      "tags": []
     },
     "output_type": "execute_result"
    }
   ],
   "source": [
    "import pandas as pd\n",
    "models = pd.DataFrame({'Model': ['CNN 3-conv layer with kernal size (3,3)', 'CNN 5-conv layer with kernal size(5,5)', \"CNN 7-conv layer with kernal size(2,2)\"], 'Test score' : [0.019,0.021,0.035],'Accuracy': [0.9943,0.9948,0.9909]}, columns = [\"Model\",\"Test score\",\"Accuracy\"])\n",
    "models"
   ]
  },
  {
   "cell_type": "markdown",
   "metadata": {},
   "source": [
    "**Conclusion**\n",
    "\n",
    "1.Load mnist dataset.\n",
    "\n",
    "2.Split the dataset into train and test.\n",
    "\n",
    "3.Normalize the data.\n",
    "\n",
    "4.convert class vectors to binary class matrices.\n",
    "\n",
    "5.Implement Softmax classifier with 3 , 5 and 7 CONV layers of of kernel size 3 , 4 and 2 with hidden layers, batchnormalizer and different dropoutrates .\n",
    "\n",
    "6.Ploting Categorical Crossentropy Loss VS No.of Epochs plot ."
   ]
  },
  {
   "cell_type": "code",
   "execution_count": null,
   "metadata": {},
   "outputs": [],
   "source": []
  }
 ],
 "metadata": {
  "colab": {
   "name": "Untitled1.ipynb",
   "provenance": [],
   "version": "0.3.2"
  },
  "kernelspec": {
   "display_name": "Python 3",
   "language": "python",
   "name": "python3"
  },
  "language_info": {
   "codemirror_mode": {
    "name": "ipython",
    "version": 3
   },
   "file_extension": ".py",
   "mimetype": "text/x-python",
   "name": "python",
   "nbconvert_exporter": "python",
   "pygments_lexer": "ipython3",
   "version": "3.6.5"
  }
 },
 "nbformat": 4,
 "nbformat_minor": 1
}
