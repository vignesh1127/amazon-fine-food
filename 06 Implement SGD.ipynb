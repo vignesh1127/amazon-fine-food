{
 "cells": [
  {
   "cell_type": "markdown",
   "metadata": {},
   "source": [
    "# Assignment:Implementing SGDClassifiers"
   ]
  },
  {
   "cell_type": "code",
   "execution_count": 1,
   "metadata": {
    "colab": {},
    "colab_type": "code",
    "id": "REYPoTJ1Af7u"
   },
   "outputs": [],
   "source": [
    "import warnings\n",
    "warnings.filterwarnings('ignore')\n",
    "from sklearn.datasets import load_boston\n",
    "from random import seed\n",
    "from random import randrange\n",
    "from csv import reader\n",
    "from math import sqrt\n",
    "from sklearn import preprocessing\n",
    "import pandas as pd\n",
    "import numpy as np\n",
    "import matplotlib.pyplot as plt\n",
    "from sklearn.linear_model import SGDRegressor\n",
    "from sklearn import preprocessing\n",
    "from sklearn.metrics import mean_squared_error\n"
   ]
  },
  {
   "cell_type": "code",
   "execution_count": 2,
   "metadata": {},
   "outputs": [],
   "source": [
    "import warnings\n",
    "warnings.filterwarnings('ignore')"
   ]
  },
  {
   "cell_type": "code",
   "execution_count": 3,
   "metadata": {
    "colab": {},
    "colab_type": "code",
    "id": "NTQ2iH-kAwbo"
   },
   "outputs": [],
   "source": [
    "X = load_boston().data\n",
    "Y = load_boston().target"
   ]
  },
  {
   "cell_type": "code",
   "execution_count": 4,
   "metadata": {
    "colab": {
     "base_uri": "https://localhost:8080/",
     "height": 34
    },
    "colab_type": "code",
    "executionInfo": {
     "elapsed": 879,
     "status": "ok",
     "timestamp": 1545718892607,
     "user": {
      "displayName": "Applied AI Course",
      "photoUrl": "https://lh5.googleusercontent.com/-9_3A9F-kDXs/AAAAAAAAAAI/AAAAAAAAACw/IprjYvUuoXQ/s64/photo.jpg",
      "userId": "00484516897554883881"
     },
     "user_tz": -330
    },
    "id": "HNu1sXtEBBS2",
    "outputId": "a0c5d3d0-345c-4a34-8ccf-0d9f3d7d23fd"
   },
   "outputs": [
    {
     "name": "stdout",
     "output_type": "stream",
     "text": [
      "(339, 13)\n",
      "(167, 13)\n",
      "(339,)\n",
      "(167,)\n"
     ]
    }
   ],
   "source": [
    "from sklearn.model_selection import train_test_split\n",
    "X_tra, X_tes, Y_tra, Y_tes = train_test_split(X, Y, test_size = 0.33, random_state = 5)\n",
    "print(X_tra.shape)\n",
    "print(X_tes.shape)\n",
    "print(Y_tra.shape)\n",
    "print(Y_tes.shape)"
   ]
  },
  {
   "cell_type": "code",
   "execution_count": 5,
   "metadata": {},
   "outputs": [],
   "source": [
    "scaler= preprocessing.StandardScaler().fit(X_tra)\n",
    "X_train=scaler.transform(X_tra)\n",
    "X_test=scaler.transform(X_tes)"
   ]
  },
  {
   "cell_type": "code",
   "execution_count": 6,
   "metadata": {},
   "outputs": [],
   "source": [
    "custom=pd.DataFrame(data=X_train)\n",
    "custom['price']=Y_tra"
   ]
  },
  {
   "cell_type": "code",
   "execution_count": 7,
   "metadata": {},
   "outputs": [],
   "source": [
    "def sgd(alpha, lrr_var, eta=0.01, pow_t=0.25,n_iter=1):\n",
    "    clf=SGDRegressor(alpha=alpha,  learning_rate=lrr_var, eta0=eta, power_t=pow_t, n_iter=n_iter)\n",
    "    clf.fit(X_train,Y_tra)\n",
    "    y_pred=clf.predict(X_test)\n",
    "    \n",
    "    #scatter plot\n",
    "    plt.scatter(Y_tes,y_pred)\n",
    "    plt.title('Actual Values VS Predicted Values')\n",
    "    plt.xlabel('Actual Values')\n",
    "    plt.ylabel('Predicted Values')\n",
    "    plt.grid(b=True, linewidth=0.5)\n",
    "    plt.show()\n",
    "    print('**************************************')\n",
    "    sgd_error=mean_squared_error(Y_tes,y_pred)\n",
    "    print('mean square error=', sgd_error)\n",
    "    \n",
    "    return clf.coef_, clf.intercept_, sgd_error"
   ]
  },
  {
   "cell_type": "code",
   "execution_count": 8,
   "metadata": {},
   "outputs": [],
   "source": [
    "def custom_model(X, lr_rate_variation, alpha=0.0001, lr_rate=0.01, power_t=0.25, n_iter=1):\n",
    "    w_new=np.zeros(shape=(1,13))\n",
    "    b_new=0\n",
    "    t=1\n",
    "    r=lr_rate\n",
    "    \n",
    "    while(t<=n_iter):\n",
    "        w_old=w_new\n",
    "        b_old=b_new\n",
    "        w_=np.zeros(shape=(1,13))\n",
    "        b_=0\n",
    "        x_data=X.sample(10)\n",
    "        x=np.array(x_data.drop('price',axis=1))\n",
    "        y=np.array(x_data['price'])\n",
    "        \n",
    "        \n",
    "        for i in range(10):  # for getting the derivatives using sgd with k=10\n",
    "            y_curr=np.dot(w_old,x[i])+b_old\n",
    "            w_+=x[i] * (y[i] - y_curr)\n",
    "            b_+=(y[i]-y_curr)\n",
    "            \n",
    "            \n",
    "        w_*=(-2/x.shape[0])\n",
    "        b_*=(-2/x.shape[0])\n",
    "        \n",
    "        #updating the parameters\n",
    "        w_new=(w_old-r*w_)\n",
    "        b_new=(b_old-r*b_)\n",
    "        \n",
    "        \n",
    "        if(lr_rate_variation=='invscaling'):\n",
    "            r = lr_rate / pow(t, power_t)\n",
    "        t+=1\n",
    "        \n",
    "    return w_new, b_new\n",
    "\n"
   ]
  },
  {
   "cell_type": "code",
   "execution_count": 9,
   "metadata": {},
   "outputs": [],
   "source": [
    "def predict(x,w, b):\n",
    "    y_pred=[]\n",
    "    for i in range(len(x)):\n",
    "        y=np.asscalar(np.dot(w,x[i])+b)\n",
    "        y_pred.append(y)\n",
    "    return np.array(y_pred)\n",
    "\n"
   ]
  },
  {
   "cell_type": "code",
   "execution_count": 10,
   "metadata": {},
   "outputs": [],
   "source": [
    "def ploting(X_test,y_pred):\n",
    "    #scatter plot\n",
    "    plt.scatter(Y_tes,y_pred)\n",
    "    plt.grid(b=True, linewidth=0.3)\n",
    "    plt.title('Actual Values VS Predicted Values')\n",
    "    plt.xlabel('Actual Values')\n",
    "    plt.ylabel('Predicted Values')\n",
    "    plt.show()\n",
    "    print('*************************************')\n",
    "    \n",
    "    \n",
    "    manual_error=mean_squared_error(Y_tes,y_pred)\n",
    "    print('mean square error=',manual_error)\n",
    "    \n",
    "    return manual_error"
   ]
  },
  {
   "cell_type": "markdown",
   "metadata": {},
   "source": [
    "__Skearn SGDRegressor__"
   ]
  },
  {
   "cell_type": "code",
   "execution_count": 14,
   "metadata": {},
   "outputs": [
    {
     "data": {
      "image/png": "[encoded data removed]",
      "text/plain": [
       "<Figure size 432x288 with 1 Axes>"
      ]
     },
     "metadata": {},
     "output_type": "display_data"
    },
    {
     "name": "stdout",
     "output_type": "stream",
     "text": [
      "**************************************\n",
      "mean square error= 27.757053239118395\n"
     ]
    }
   ],
   "source": [
    "w_sgd, b_sgd, error_sgd=sgd(alpha=0.0001, lrr_var='constant', eta=0.01, n_iter=1000)"
   ]
  },
  {
   "cell_type": "markdown",
   "metadata": {},
   "source": [
    "__Custom implementation of SGDRegressor__"
   ]
  },
  {
   "cell_type": "code",
   "execution_count": 20,
   "metadata": {},
   "outputs": [
    {
     "data": {
      "image/png": "[encoded data removed]",
      "text/plain": [
       "<Figure size 432x288 with 1 Axes>"
      ]
     },
     "metadata": {},
     "output_type": "display_data"
    },
    {
     "name": "stdout",
     "output_type": "stream",
     "text": [
      "*************************************\n",
      "mean square error= 27.401949693132224\n"
     ]
    }
   ],
   "source": [
    "w, b=custom_model(X=custom, lr_rate_variation='constant' , n_iter=1000)\n",
    "y_pred=predict(X_test, w=w, b=b)\n",
    "manual_error=ploting(X_test,y_pred)"
   ]
  },
  {
   "cell_type": "code",
   "execution_count": 21,
   "metadata": {},
   "outputs": [],
   "source": [
    "b=w.reshape(13,1)"
   ]
  },
  {
   "cell_type": "code",
   "execution_count": 22,
   "metadata": {},
   "outputs": [
    {
     "name": "stdout",
     "output_type": "stream",
     "text": [
      "+-------+--------------------------+-----------------------+\n",
      "| S.NO. | Weights of Sklearn's SGD | Weights of manual SGD |\n",
      "+-------+--------------------------+-----------------------+\n",
      "|   1   |   -1.3812233430359353    |     [-1.18969291]     |\n",
      "|   2   |    0.6342440751923348    |      [0.76183188]     |\n",
      "|   3   |   -0.11820806673036802   |      [-0.527319]      |\n",
      "|   4   |    0.4512447404217142    |      [0.69989891]     |\n",
      "|   5   |    -1.354866106534257    |     [-1.41940834]     |\n",
      "|   6   |    3.1880799640744666    |      [2.47851379]     |\n",
      "|   7   |  -0.016879860138361562   |     [-0.30013524]     |\n",
      "|   8   |   -3.0270354416702983    |     [-2.78326128]     |\n",
      "|   9   |     3.22408253504173     |      [2.20547065]     |\n",
      "|   10  |    -2.17961223091745     |     [-1.07909456]     |\n",
      "|   11  |    -2.156591952719235    |     [-2.12206703]     |\n",
      "|   12  |    0.9947252014489741    |      [1.10438779]     |\n",
      "|   13  |    -3.219698660547973    |     [-3.61071477]     |\n",
      "+-------+--------------------------+-----------------------+\n"
     ]
    }
   ],
   "source": [
    "from prettytable import PrettyTable\n",
    "\n",
    "numbering = [1,2,3,4,5,6,7,8,9,10,11,12,13]\n",
    "# Initializing prettytable\n",
    "ptable = PrettyTable()\n",
    "\n",
    "# Adding columns\n",
    "ptable.add_column(\"S.NO.\",numbering)\n",
    "ptable.add_column(\"Weights of Sklearn's SGD\",w_sgd)\n",
    "ptable.add_column(\"Weights of manual SGD\",b)\n",
    "\n",
    "# Printing the Table\n",
    "print(ptable)"
   ]
  },
  {
   "cell_type": "markdown",
   "metadata": {},
   "source": [
    "# Conclusion"
   ]
  },
  {
   "cell_type": "code",
   "execution_count": 23,
   "metadata": {},
   "outputs": [
    {
     "data": {
      "text/html": [
       "<div>\n",
       "<style scoped>\n",
       "    .dataframe tbody tr th:only-of-type {\n",
       "        vertical-align: middle;\n",
       "    }\n",
       "\n",
       "    .dataframe tbody tr th {\n",
       "        vertical-align: top;\n",
       "    }\n",
       "\n",
       "    .dataframe thead th {\n",
       "        text-align: right;\n",
       "    }\n",
       "</style>\n",
       "<table border=\"1\" class=\"dataframe\">\n",
       "  <thead>\n",
       "    <tr style=\"text-align: right;\">\n",
       "      <th></th>\n",
       "      <th>Vectorizer</th>\n",
       "      <th>Mean_Sqaure_Error(MSE)</th>\n",
       "    </tr>\n",
       "  </thead>\n",
       "  <tbody>\n",
       "    <tr>\n",
       "      <th>0</th>\n",
       "      <td>SGD Regressor</td>\n",
       "      <td>27</td>\n",
       "    </tr>\n",
       "    <tr>\n",
       "      <th>1</th>\n",
       "      <td>Custom SGD Regressor</td>\n",
       "      <td>27</td>\n",
       "    </tr>\n",
       "  </tbody>\n",
       "</table>\n",
       "</div>"
      ],
      "text/plain": [
       "             Vectorizer  Mean_Sqaure_Error(MSE)\n",
       "0         SGD Regressor                      27\n",
       "1  Custom SGD Regressor                      27"
      ]
     },
     "execution_count": 23,
     "metadata": {},
     "output_type": "execute_result"
    }
   ],
   "source": [
    "models = pd.DataFrame({'Vectorizer': ['SGD Regressor','Custom SGD Regressor'],'Mean_Sqaure_Error(MSE)':[27,27]}, columns = [\"Vectorizer\", \"Mean_Sqaure_Error(MSE)\"])\n",
    "models"
   ]
  },
  {
   "cell_type": "code",
   "execution_count": null,
   "metadata": {},
   "outputs": [],
   "source": []
  }
 ],
 "metadata": {
  "colab": {
   "name": "Untitled3.ipynb",
   "provenance": [],
   "version": "0.3.2"
  },
  "kernelspec": {
   "display_name": "Python 3",
   "language": "python",
   "name": "python3"
  },
  "language_info": {
   "codemirror_mode": {
    "name": "ipython",
    "version": 3
   },
   "file_extension": ".py",
   "mimetype": "text/x-python",
   "name": "python",
   "nbconvert_exporter": "python",
   "pygments_lexer": "ipython3",
   "version": "3.6.5"
  }
 },
 "nbformat": 4,
 "nbformat_minor": 1
}
